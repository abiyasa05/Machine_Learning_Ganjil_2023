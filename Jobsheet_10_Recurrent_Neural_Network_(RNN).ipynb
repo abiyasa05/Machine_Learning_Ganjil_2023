{
  "nbformat": 4,
  "nbformat_minor": 0,
  "metadata": {
    "colab": {
      "provenance": [],
      "gpuType": "T4",
      "authorship_tag": "ABX9TyP6vAXhzt/Qrf+Opy7Z2ybT",
      "include_colab_link": true
    },
    "kernelspec": {
      "name": "python3",
      "display_name": "Python 3"
    },
    "language_info": {
      "name": "python"
    },
    "accelerator": "GPU"
  },
  "cells": [
    {
      "cell_type": "markdown",
      "metadata": {
        "id": "view-in-github",
        "colab_type": "text"
      },
      "source": [
        "<a href=\"https://colab.research.google.com/github/abiyasa05/Machine_Learning_Ganjil_2023/blob/main/Jobsheet_10_Recurrent_Neural_Network_(RNN).ipynb\" target=\"_parent\"><img src=\"https://colab.research.google.com/assets/colab-badge.svg\" alt=\"Open In Colab\"/></a>"
      ]
    },
    {
      "cell_type": "markdown",
      "source": [
        "# **Praktikum 1**\n",
        "\n",
        "RNN untuk Analisis Sentimen"
      ],
      "metadata": {
        "id": "bxIv62OIte7d"
      }
    },
    {
      "cell_type": "markdown",
      "source": [
        "# **Setup**\n",
        "\n",
        "Impor matplotlib dan buat fungsi pembantu untuk memplot grafik:"
      ],
      "metadata": {
        "id": "m2ozInBLtqUm"
      }
    },
    {
      "cell_type": "code",
      "source": [
        "import numpy as np\n",
        "import tensorflow_datasets as tfds\n",
        "import tensorflow as tf\n",
        "\n",
        "tfds.disable_progress_bar()"
      ],
      "metadata": {
        "id": "pDIMVbeWuZGu"
      },
      "execution_count": 1,
      "outputs": []
    },
    {
      "cell_type": "code",
      "execution_count": 2,
      "metadata": {
        "id": "5J-l4J8TtR4J"
      },
      "outputs": [],
      "source": [
        "import matplotlib.pyplot as plt\n",
        "\n",
        "def plot_graphs(history, metric):\n",
        "  plt.plot(history.history[metric])\n",
        "  plt.plot(history.history['val_'+metric], '')\n",
        "  plt.xlabel(\"Epochs\")\n",
        "  plt.ylabel(metric)\n",
        "  plt.legend([metric, 'val_'+metric])"
      ]
    },
    {
      "cell_type": "markdown",
      "source": [
        "# **Setup input pipeline**\n",
        "\n",
        "Dataset ulasan film IMDB adalah kumpulan data klasifikasi biner—semua ulasan memiliki sentimen positif atau negatif.\n",
        "\n",
        "Download dataset menggunakan TFDS. Lihat loading text tutorial jika ingin me load data secara manual"
      ],
      "metadata": {
        "id": "Q411gaVDt_vZ"
      }
    },
    {
      "cell_type": "code",
      "source": [
        "dataset, info = tfds.load('imdb_reviews', with_info=True,\n",
        "                          as_supervised=True)\n",
        "train_dataset, test_dataset = dataset['train'], dataset['test']\n",
        "\n",
        "train_dataset.element_spec"
      ],
      "metadata": {
        "colab": {
          "base_uri": "https://localhost:8080/"
        },
        "id": "9AyjBR1kuLze",
        "outputId": "0b1d46b4-b05c-476f-d235-22a946eca84e"
      },
      "execution_count": 3,
      "outputs": [
        {
          "output_type": "stream",
          "name": "stdout",
          "text": [
            "Downloading and preparing dataset 80.23 MiB (download: 80.23 MiB, generated: Unknown size, total: 80.23 MiB) to /root/tensorflow_datasets/imdb_reviews/plain_text/1.0.0...\n",
            "Dataset imdb_reviews downloaded and prepared to /root/tensorflow_datasets/imdb_reviews/plain_text/1.0.0. Subsequent calls will reuse this data.\n"
          ]
        },
        {
          "output_type": "execute_result",
          "data": {
            "text/plain": [
              "(TensorSpec(shape=(), dtype=tf.string, name=None),\n",
              " TensorSpec(shape=(), dtype=tf.int64, name=None))"
            ]
          },
          "metadata": {},
          "execution_count": 3
        }
      ]
    },
    {
      "cell_type": "markdown",
      "source": [
        "Awalnya ini mengembalikan dataset (teks, pasangan label):"
      ],
      "metadata": {
        "id": "GUw5M4kIuldC"
      }
    },
    {
      "cell_type": "code",
      "source": [
        "for example, label in train_dataset.take(1):\n",
        "  print('text: ', example.numpy())\n",
        "  print('label: ', label.numpy())"
      ],
      "metadata": {
        "colab": {
          "base_uri": "https://localhost:8080/"
        },
        "id": "YhhDXzKoum_s",
        "outputId": "bc27ccba-8c14-44ec-f216-6206d91c0019"
      },
      "execution_count": 4,
      "outputs": [
        {
          "output_type": "stream",
          "name": "stdout",
          "text": [
            "text:  b\"This was an absolutely terrible movie. Don't be lured in by Christopher Walken or Michael Ironside. Both are great actors, but this must simply be their worst role in history. Even their great acting could not redeem this movie's ridiculous storyline. This movie is an early nineties US propaganda piece. The most pathetic scenes were those when the Columbian rebels were making their cases for revolutions. Maria Conchita Alonso appeared phony, and her pseudo-love affair with Walken was nothing but a pathetic emotional plug in a movie that was devoid of any real meaning. I am disappointed that there are movies like this, ruining actor's like Christopher Walken's good name. I could barely sit through it.\"\n",
            "label:  0\n"
          ]
        }
      ]
    },
    {
      "cell_type": "markdown",
      "source": [
        "Berikutnya acak data untuk pelatihan dan membuat kumpulan pasangan (teks, label) ini:"
      ],
      "metadata": {
        "id": "ToCHdy8HutwS"
      }
    },
    {
      "cell_type": "code",
      "source": [
        "BUFFER_SIZE = 10000\n",
        "BATCH_SIZE = 64\n",
        "\n",
        "train_dataset = train_dataset.shuffle(BUFFER_SIZE).batch(BATCH_SIZE).prefetch(tf.data.AUTOTUNE)\n",
        "test_dataset = test_dataset.batch(BATCH_SIZE).prefetch(tf.data.AUTOTUNE)\n",
        "\n",
        "for example, label in train_dataset.take(1):\n",
        "  print('texts: ', example.numpy()[:3])\n",
        "  print()\n",
        "  print('labels: ', label.numpy()[:3])"
      ],
      "metadata": {
        "colab": {
          "base_uri": "https://localhost:8080/"
        },
        "id": "1I8rK9bYuwSu",
        "outputId": "51183cbd-262c-4068-bf84-c7356ee6ea17"
      },
      "execution_count": 5,
      "outputs": [
        {
          "output_type": "stream",
          "name": "stdout",
          "text": [
            "texts:  [b\"I hate over-long over-talky French movies, but my favorite movie of all time is the longest and talkiest French movie of them all. I saw it twice in the mid-70's, and then it disappeared. But I finally got to see it again in 1999, and fell in love all over again. What is most remarkable is that it feels every bit as fresh today as it did 25 years ago. If you haven't seen it, don't miss your chance!\"\n",
            " b\"Everyone knows about this ''Zero Day'' event. What I think this movie did that Elephant did not is that they made us see how these guys were. They showed their life for about a year. Throughout the movie we get to like them, to laugh with them even though we totally know what they're gonna do. And THAT gives me the chills. Cause I felt guilty to be cheered by their comments, and I just thought Cal was a sweet guy. Even though I KNEW what was gonna happen you know? Even at the end of the movie when they were about to commit suicide and just deciding if they did it on the count of 3 or 4 I thought this was funny but still I was horrified to see their heads blown off. Of course I was. I got to like them. They were wicked, maybe, but I felt like they were really normal guys, that they didn't really realize it. But I knew they were.<br /><br />That's, IMO, the main force of this movie. It makes us realize that our friends, or relatives, or anyone, can be planning something crazy, and that we won't even notice it. This movie, as good as it was, made me feel bad. And that's why I can't go to sleep right now. There's still this little feeling in my stomach. Butterflies.\"\n",
            " b\"What an empty and lack lustre rendition of the classic novel. I do wish people would stop messing about with classics when they clearly have no idea of the real intention or point of the original. This version is no different. I felt that the Ralph Fiennes version is much worse though as the casting of Juliette brioche as Kathy has got to be the worst casting decision EVER...anyway back to this version. It aims to make the story relevant to a contemporary setting and in a musical style. It succeeds in both but high art it is nit. Throwaway viewing for a rainy day maybe...The direction was average and the editing abysmal. Worse than the old Quincy. Deepak Verma does a great turn as Hindley and is in fact one of Britains wasted talents. The part of Heath was played with great charm and belief and I think that the casting is the strongest point of this project. Although a more talented director would have made better use of the facilities he had. Its clear that he was a director for hire and didn't instill the project with the passion that it deserved.\"]\n",
            "\n",
            "labels:  [1 1 0]\n"
          ]
        }
      ]
    },
    {
      "cell_type": "markdown",
      "source": [
        "# **Buat Teks Encoder**\n",
        "\n",
        "Teks mentah yang dimuat oleh tfds perlu diproses sebelum dapat digunakan dalam model. Cara termudah memproses teks untuk pelatihan adalah menggunakan lapisan TextVectorization. Lapisan ini memiliki banyak kemampuan, namun pada tutorial ini menggunakan perilaku default. Buat lapisan tersebut, dan teruskan teks kumpulan data ke metode .adapt lapisan:"
      ],
      "metadata": {
        "id": "Nzcjz2smuz_d"
      }
    },
    {
      "cell_type": "code",
      "source": [
        "VOCAB_SIZE = 1000\n",
        "encoder = tf.keras.layers.TextVectorization(\n",
        "    max_tokens=VOCAB_SIZE)\n",
        "encoder.adapt(train_dataset.map(lambda text, label: text))"
      ],
      "metadata": {
        "id": "cgNigv5Fu6bF"
      },
      "execution_count": 6,
      "outputs": []
    },
    {
      "cell_type": "markdown",
      "source": [
        "Metode .adapt mengatur kosakata lapisan. 20 token pertama dapat dilihat dengan kode berikut. Setelah padding dan token yang tidak diketahui, mereka diurutkan berdasarkan frekuensi:"
      ],
      "metadata": {
        "id": "Ec86TszWu-xP"
      }
    },
    {
      "cell_type": "code",
      "source": [
        "vocab=np.array(encoder.get_vocabulary())\n",
        "vocab[:20]"
      ],
      "metadata": {
        "colab": {
          "base_uri": "https://localhost:8080/"
        },
        "id": "5vouRq02u_tU",
        "outputId": "df0a3ee4-be5b-4c83-b110-927cfd7ce620"
      },
      "execution_count": 7,
      "outputs": [
        {
          "output_type": "execute_result",
          "data": {
            "text/plain": [
              "array(['', '[UNK]', 'the', 'and', 'a', 'of', 'to', 'is', 'in', 'it', 'i',\n",
              "       'this', 'that', 'br', 'was', 'as', 'for', 'with', 'movie', 'but'],\n",
              "      dtype='<U14')"
            ]
          },
          "metadata": {},
          "execution_count": 7
        }
      ]
    },
    {
      "cell_type": "markdown",
      "source": [
        "Setelah kosakata diatur, lapisan dapat mengkodekan teks ke dalam indeks. Tensor indeks diberi bantalan 0 ke urutan terpanjang dalam batch (kecuali jika Anda menetapkan output_sequence_length tetap):"
      ],
      "metadata": {
        "id": "9saXCl-GvFo1"
      }
    },
    {
      "cell_type": "code",
      "source": [
        "encoded_example=encoder(example)[:3].numpy()\n",
        "encoded_example"
      ],
      "metadata": {
        "colab": {
          "base_uri": "https://localhost:8080/"
        },
        "id": "CZrAfjgNvIK9",
        "outputId": "d4dd8bdf-8c18-4fca-f698-ff944d995fe2"
      },
      "execution_count": 8,
      "outputs": [
        {
          "output_type": "execute_result",
          "data": {
            "text/plain": [
              "array([[ 10, 782,   1, ...,   0,   0,   0],\n",
              "       [305, 670,  43, ...,   0,   0,   0],\n",
              "       [ 49,  34,   1, ...,   0,   0,   0]])"
            ]
          },
          "metadata": {},
          "execution_count": 8
        }
      ]
    },
    {
      "cell_type": "markdown",
      "source": [
        "Dengan pengaturan default, prosesnya tidak dapat dibalik sepenuhnya. Ada dua alasan utama untuk itu:\n",
        "\n",
        "-Nilai default untuk argumen standarisasi preprocessing.TextVectorization adalah \"lower_and_strip_punctuation\".\n",
        "\n",
        "-Ukuran kosa kata yang terbatas dan kurangnya fallback berbasis karakter menghasilkan beberapa token yang tidak diketahui."
      ],
      "metadata": {
        "id": "cHjxoTbivNTs"
      }
    },
    {
      "cell_type": "code",
      "source": [
        "for n in range(3):\n",
        "  print(\"Original: \", example[n].numpy())\n",
        "  print(\"Round-trip: \", \" \".join(vocab[encoded_example[n]]))\n",
        "  print()"
      ],
      "metadata": {
        "colab": {
          "base_uri": "https://localhost:8080/"
        },
        "id": "k6mqH4_qvRBO",
        "outputId": "16f4e840-6435-48b4-9966-a5516ef02090"
      },
      "execution_count": 9,
      "outputs": [
        {
          "output_type": "stream",
          "name": "stdout",
          "text": [
            "Original:  b\"I hate over-long over-talky French movies, but my favorite movie of all time is the longest and talkiest French movie of them all. I saw it twice in the mid-70's, and then it disappeared. But I finally got to see it again in 1999, and fell in love all over again. What is most remarkable is that it feels every bit as fresh today as it did 25 years ago. If you haven't seen it, don't miss your chance!\"\n",
            "Round-trip:  i hate [UNK] [UNK] french movies but my favorite movie of all time is the [UNK] and [UNK] french movie of them all i saw it [UNK] in the [UNK] and then it [UNK] but i finally got to see it again in [UNK] and [UNK] in love all over again what is most [UNK] is that it feels every bit as [UNK] today as it did [UNK] years ago if you havent seen it dont miss your chance                                                                                                                                                                                                                                                                                                                                                                                                                                                                                                                                                                                                                                                                                                                                                                                                                                                                                                                                                        \n",
            "\n",
            "Original:  b\"Everyone knows about this ''Zero Day'' event. What I think this movie did that Elephant did not is that they made us see how these guys were. They showed their life for about a year. Throughout the movie we get to like them, to laugh with them even though we totally know what they're gonna do. And THAT gives me the chills. Cause I felt guilty to be cheered by their comments, and I just thought Cal was a sweet guy. Even though I KNEW what was gonna happen you know? Even at the end of the movie when they were about to commit suicide and just deciding if they did it on the count of 3 or 4 I thought this was funny but still I was horrified to see their heads blown off. Of course I was. I got to like them. They were wicked, maybe, but I felt like they were really normal guys, that they didn't really realize it. But I knew they were.<br /><br />That's, IMO, the main force of this movie. It makes us realize that our friends, or relatives, or anyone, can be planning something crazy, and that we won't even notice it. This movie, as good as it was, made me feel bad. And that's why I can't go to sleep right now. There's still this little feeling in my stomach. Butterflies.\"\n",
            "Round-trip:  everyone knows about this [UNK] day [UNK] what i think this movie did that [UNK] did not is that they made us see how these guys were they [UNK] their life for about a year throughout the movie we get to like them to laugh with them even though we totally know what theyre [UNK] do and that gives me the [UNK] [UNK] i felt [UNK] to be [UNK] by their comments and i just thought [UNK] was a [UNK] guy even though i knew what was [UNK] happen you know even at the end of the movie when they were about to [UNK] [UNK] and just [UNK] if they did it on the [UNK] of 3 or 4 i thought this was funny but still i was [UNK] to see their [UNK] [UNK] off of course i was i got to like them they were [UNK] maybe but i felt like they were really [UNK] guys that they didnt really realize it but i knew they [UNK] br thats [UNK] the main [UNK] of this movie it makes us realize that our friends or [UNK] or anyone can be [UNK] something crazy and that we wont even [UNK] it this movie as good as it was made me feel bad and thats why i cant go to [UNK] right now theres still this little feeling in my [UNK] [UNK]                                                                                                                                                                                                                                                                                                                                                                                                                                                                                                                                                                                                                                                                                                                                                                                                 \n",
            "\n",
            "Original:  b\"What an empty and lack lustre rendition of the classic novel. I do wish people would stop messing about with classics when they clearly have no idea of the real intention or point of the original. This version is no different. I felt that the Ralph Fiennes version is much worse though as the casting of Juliette brioche as Kathy has got to be the worst casting decision EVER...anyway back to this version. It aims to make the story relevant to a contemporary setting and in a musical style. It succeeds in both but high art it is nit. Throwaway viewing for a rainy day maybe...The direction was average and the editing abysmal. Worse than the old Quincy. Deepak Verma does a great turn as Hindley and is in fact one of Britains wasted talents. The part of Heath was played with great charm and belief and I think that the casting is the strongest point of this project. Although a more talented director would have made better use of the facilities he had. Its clear that he was a director for hire and didn't instill the project with the passion that it deserved.\"\n",
            "Round-trip:  what an [UNK] and lack [UNK] [UNK] of the classic novel i do wish people would stop [UNK] about with [UNK] when they clearly have no idea of the real [UNK] or point of the original this version is no different i felt that the [UNK] [UNK] version is much worse though as the casting of [UNK] [UNK] as [UNK] has got to be the worst casting [UNK] [UNK] back to this version it [UNK] to make the story [UNK] to a [UNK] setting and in a musical style it [UNK] in both but high art it is [UNK] [UNK] viewing for a [UNK] day [UNK] direction was average and the editing [UNK] worse than the old [UNK] [UNK] [UNK] does a great turn as [UNK] and is in fact one of [UNK] [UNK] [UNK] the part of [UNK] was played with great [UNK] and [UNK] and i think that the casting is the [UNK] point of this [UNK] although a more [UNK] director would have made better use of the [UNK] he had its clear that he was a director for [UNK] and didnt [UNK] the [UNK] with the [UNK] that it [UNK]                                                                                                                                                                                                                                                                                                                                                                                                                                                                                                                                                                                                                                                                                                                                                                                                                                     \n",
            "\n"
          ]
        }
      ]
    },
    {
      "cell_type": "markdown",
      "source": [
        "# **Buat Model**\n",
        "\n",
        "1. Model ini dapat dibuat sebagai tf.keras.Sequential.\n",
        "\n",
        "2. Lapisan pertama adalah encoder, yang mengubah teks menjadi urutan indeks token.\n",
        "\n",
        "3. Setelah encoder adalah lapisan penyematan (embedding layer). Lapisan penyematan menyimpan satu vektor per kata. Saat dipanggil, ini mengubah rangkaian indeks kata menjadi rangkaian vektor. Vektor-vektor ini dapat dilatih. Setelah pelatihan (dengan data yang cukup), kata-kata dengan arti yang mirip sering kali memiliki vektor yang serupa. Pencarian indeks ini jauh lebih efisien daripada operasi setara dengan meneruskan vektor yang disandikan one-hot melalui lapisan tf.keras.layers.Dense.\n",
        "\n",
        "4. Jaringan saraf berulang (RNN) memproses masukan urutan dengan melakukan iterasi melalui elemen. RNN meneruskan keluaran dari satu langkah waktu ke masukannya pada langkah waktu berikutnya.\n",
        "Pembungkus tf.keras.layers.Bidirection juga dapat digunakan dengan lapisan RNN. Ini menyebarkan masukan maju dan mundur melalui lapisan RNN dan kemudian menggabungkan keluaran akhir.\n",
        "\n",
        "  - Keuntungan utama RNN dua arah adalah sinyal dari awal masukan tidak perlu diproses sepanjang waktu untuk memengaruhi keluaran.\n",
        "\n",
        "  - Kerugian utama dari RNN dua arah adalah Anda tidak dapat melakukan streaming prediksi secara efisien saat kata-kata ditambahkan di akhir.\n",
        "\n",
        "5. Setelah RNN mengonversi urutan menjadi satu vektor, kedua lapisan tersebut.Dense melakukan beberapa pemrosesan akhir, dan mengonversi representasi vektor ini menjadi logit tunggal sebagai keluaran klasifikasi."
      ],
      "metadata": {
        "id": "k_JvUFWJvSgP"
      }
    },
    {
      "cell_type": "code",
      "source": [
        "model = tf.keras.Sequential([\n",
        "    encoder,\n",
        "    tf.keras.layers.Embedding(\n",
        "        input_dim=len(encoder.get_vocabulary()),\n",
        "        output_dim=64,\n",
        "        # Use masking to handle the variable sequence lengths\n",
        "        mask_zero=True),\n",
        "    tf.keras.layers.Bidirectional(tf.keras.layers.LSTM(64)),\n",
        "    tf.keras.layers.Dense(64, activation='relu'),\n",
        "    tf.keras.layers.Dense(1)\n",
        "])"
      ],
      "metadata": {
        "id": "mb4CYup3wtOs"
      },
      "execution_count": 10,
      "outputs": []
    },
    {
      "cell_type": "markdown",
      "source": [
        "Harap dicatat bahwa model sekuensial Keras digunakan di sini karena semua lapisan dalam model hanya memiliki masukan tunggal dan menghasilkan keluaran tunggal. Jika Anda ingin menggunakan lapisan RNN stateful, Anda mungkin ingin membangun model Anda dengan API fungsional Keras atau subkelas model sehingga Anda dapat mengambil dan menggunakan kembali status lapisan RNN. Untuk detailnya bisa dilihat pada Keras RNN guide\n",
        "\n",
        "Lapisan penyematan menggunakan masking (uses masking ) untuk menangani panjang urutan yang bervariasi. Semua lapisan setelah penyematan dukungan penyematan"
      ],
      "metadata": {
        "id": "u71MmeS0wx7K"
      }
    },
    {
      "cell_type": "code",
      "source": [
        "print([layer.supports_masking for layer in model.layers])"
      ],
      "metadata": {
        "colab": {
          "base_uri": "https://localhost:8080/"
        },
        "id": "6r60UITvw1H6",
        "outputId": "34d5432c-9934-4116-f961-e066682727a3"
      },
      "execution_count": 11,
      "outputs": [
        {
          "output_type": "stream",
          "name": "stdout",
          "text": [
            "[False, True, True, True, True]\n"
          ]
        }
      ]
    },
    {
      "cell_type": "markdown",
      "source": [
        "Untuk memastikan bahwa ini berfungsi seperti yang diharapkan, evaluasi sebuah kalimat dua kali. Pertama, satu kalimat sehingga tidak ada bantalan (padding) untuk disamarkan:"
      ],
      "metadata": {
        "id": "cWmhT-gkxBH1"
      }
    },
    {
      "cell_type": "code",
      "source": [
        "# predict on a sample text without padding.\n",
        "\n",
        "sample_text = ('The movie was cool. The animation and the graphics '\n",
        "               'were out of this world. I would recommend this movie.')\n",
        "predictions = model.predict(np.array([sample_text]))\n",
        "print(predictions[0])"
      ],
      "metadata": {
        "colab": {
          "base_uri": "https://localhost:8080/"
        },
        "id": "UHzDE9GRxD1U",
        "outputId": "6f8ceda8-d200-4f57-b372-97b8c2f30f59"
      },
      "execution_count": 12,
      "outputs": [
        {
          "output_type": "stream",
          "name": "stdout",
          "text": [
            "1/1 [==============================] - 8s 8s/step\n",
            "[0.01009258]\n"
          ]
        }
      ]
    },
    {
      "cell_type": "markdown",
      "source": [
        "Sekarang, evaluasi lagi dalam batch dengan kalimat yang lebih panjang. Hasilnya harus sama:"
      ],
      "metadata": {
        "id": "0jNzig2nxJVp"
      }
    },
    {
      "cell_type": "code",
      "source": [
        "# predict on a sample text with padding\n",
        "\n",
        "padding = \"the \" * 2000\n",
        "predictions = model.predict(np.array([sample_text, padding]))\n",
        "print(predictions[0])"
      ],
      "metadata": {
        "colab": {
          "base_uri": "https://localhost:8080/"
        },
        "id": "8B7-8IVxxKgY",
        "outputId": "1801a8ba-1bf9-4a69-f144-943114d1e660"
      },
      "execution_count": 13,
      "outputs": [
        {
          "output_type": "stream",
          "name": "stdout",
          "text": [
            "1/1 [==============================] - 0s 61ms/step\n",
            "[0.01009257]\n"
          ]
        }
      ]
    },
    {
      "cell_type": "markdown",
      "source": [
        "compile model Keras untuk mengonfigurasi proses pelatihan:"
      ],
      "metadata": {
        "id": "sQeo07sSxP39"
      }
    },
    {
      "cell_type": "code",
      "source": [
        "model.compile(loss=tf.keras.losses.BinaryCrossentropy(from_logits=True),\n",
        "              optimizer=tf.keras.optimizers.Adam(1e-4),\n",
        "              metrics=['accuracy'])"
      ],
      "metadata": {
        "id": "8OyPPd_txQzW"
      },
      "execution_count": 14,
      "outputs": []
    },
    {
      "cell_type": "markdown",
      "source": [
        "# **Train Model**"
      ],
      "metadata": {
        "id": "VnR0bDDtxUHl"
      }
    },
    {
      "cell_type": "code",
      "source": [
        "history = model.fit(train_dataset, epochs=10,\n",
        "                    validation_data=test_dataset,\n",
        "                    validation_steps=30)"
      ],
      "metadata": {
        "colab": {
          "base_uri": "https://localhost:8080/"
        },
        "id": "jcM_AleuxWAX",
        "outputId": "e17f7d65-4f6a-422b-f50e-6804f59b0e7a"
      },
      "execution_count": 15,
      "outputs": [
        {
          "output_type": "stream",
          "name": "stdout",
          "text": [
            "Epoch 1/10\n",
            "391/391 [==============================] - 48s 97ms/step - loss: 0.6348 - accuracy: 0.5764 - val_loss: 0.5760 - val_accuracy: 0.7589\n",
            "Epoch 2/10\n",
            "391/391 [==============================] - 24s 62ms/step - loss: 0.4393 - accuracy: 0.7898 - val_loss: 0.4113 - val_accuracy: 0.8047\n",
            "Epoch 3/10\n",
            "391/391 [==============================] - 24s 61ms/step - loss: 0.3709 - accuracy: 0.8346 - val_loss: 0.3632 - val_accuracy: 0.8453\n",
            "Epoch 4/10\n",
            "391/391 [==============================] - 23s 59ms/step - loss: 0.3345 - accuracy: 0.8562 - val_loss: 0.3444 - val_accuracy: 0.8578\n",
            "Epoch 5/10\n",
            "391/391 [==============================] - 23s 58ms/step - loss: 0.3185 - accuracy: 0.8644 - val_loss: 0.3314 - val_accuracy: 0.8469\n",
            "Epoch 6/10\n",
            "391/391 [==============================] - 35s 89ms/step - loss: 0.3110 - accuracy: 0.8664 - val_loss: 0.3279 - val_accuracy: 0.8604\n",
            "Epoch 7/10\n",
            "391/391 [==============================] - 24s 61ms/step - loss: 0.3045 - accuracy: 0.8703 - val_loss: 0.3296 - val_accuracy: 0.8609\n",
            "Epoch 8/10\n",
            "391/391 [==============================] - 23s 59ms/step - loss: 0.3004 - accuracy: 0.8726 - val_loss: 0.3182 - val_accuracy: 0.8594\n",
            "Epoch 9/10\n",
            "391/391 [==============================] - 26s 65ms/step - loss: 0.2986 - accuracy: 0.8733 - val_loss: 0.3179 - val_accuracy: 0.8672\n",
            "Epoch 10/10\n",
            "391/391 [==============================] - 24s 62ms/step - loss: 0.2980 - accuracy: 0.8734 - val_loss: 0.3160 - val_accuracy: 0.8609\n"
          ]
        }
      ]
    },
    {
      "cell_type": "code",
      "source": [
        "test_loss, test_acc = model.evaluate(test_dataset)\n",
        "\n",
        "print('Test Loss:', test_loss)\n",
        "print('Test Accuracy:', test_acc)"
      ],
      "metadata": {
        "id": "hAwyX7J4xleM",
        "colab": {
          "base_uri": "https://localhost:8080/"
        },
        "outputId": "9f4eda64-b1eb-4948-c9f5-10d4bfb376f1"
      },
      "execution_count": 16,
      "outputs": [
        {
          "output_type": "stream",
          "name": "stdout",
          "text": [
            "391/391 [==============================] - 11s 28ms/step - loss: 0.3141 - accuracy: 0.8613\n",
            "Test Loss: 0.31409087777137756\n",
            "Test Accuracy: 0.8612800240516663\n"
          ]
        }
      ]
    },
    {
      "cell_type": "code",
      "source": [
        "plt.figure(figsize=(16, 8))\n",
        "plt.subplot(1, 2, 1)\n",
        "plot_graphs(history, 'accuracy')\n",
        "plt.ylim(None, 1)\n",
        "plt.subplot(1, 2, 2)\n",
        "plot_graphs(history, 'loss')\n",
        "plt.ylim(0, None)"
      ],
      "metadata": {
        "id": "_Z_A53YHxnnc",
        "colab": {
          "base_uri": "https://localhost:8080/",
          "height": 719
        },
        "outputId": "327e2dde-ae02-4980-8e08-b97fbd584738"
      },
      "execution_count": 17,
      "outputs": [
        {
          "output_type": "execute_result",
          "data": {
            "text/plain": [
              "(0.0, 0.6516240909695625)"
            ]
          },
          "metadata": {},
          "execution_count": 17
        },
        {
          "output_type": "display_data",
          "data": {
            "text/plain": [
              "<Figure size 1600x800 with 2 Axes>"
            ],
            "image/png": "[encoded data removed]"
          },
          "metadata": {}
        }
      ]
    },
    {
      "cell_type": "markdown",
      "source": [
        "Jalankan prediksi pada kalimat baru:\n",
        "\n",
        "Jika prediksi >= 0,0 berarti positif, jika tidak maka negatif."
      ],
      "metadata": {
        "id": "ZUMDEoXYyUIS"
      }
    },
    {
      "cell_type": "code",
      "source": [
        "sample_text = ('The movie was cool. The animation and the graphics '\n",
        "               'were out of this world. I would recommend this movie.')\n",
        "predictions = model.predict(np.array([sample_text]))"
      ],
      "metadata": {
        "id": "2aDxERIoyXBs",
        "colab": {
          "base_uri": "https://localhost:8080/"
        },
        "outputId": "128d021b-882c-4e2f-a344-2ee0aee0f113"
      },
      "execution_count": 18,
      "outputs": [
        {
          "output_type": "stream",
          "name": "stdout",
          "text": [
            "1/1 [==============================] - 2s 2s/step\n"
          ]
        }
      ]
    },
    {
      "cell_type": "markdown",
      "source": [
        "# **Stack two or more LSTM layers**\n",
        "\n",
        "Lapisan berulang Keras memiliki dua mode yang tersedia yang dikontrol oleh argumen konstruktor return_sequences :\n",
        "\n",
        "  - Jika False, ia hanya mengembalikan keluaran terakhir untuk setiap urutan masukan (bentuk tensor 2D (batch_size, output_features)). Ini adalah default yang digunakan pada model sebelumnya.\n",
        "\n",
        "  - Jika True, Sequence lengkap output berturut-turut untuk setiap langkah waktu dikembalikan (bentuk tensor 3D (ukuran_batch, langkah waktu, fitur_output))."
      ],
      "metadata": {
        "id": "xpfibc5wygZU"
      }
    },
    {
      "cell_type": "markdown",
      "source": [
        "Hal yang menarik dari penggunaan RNN dengan return_sequences=True adalah outputnya masih memiliki 3 axis, sama seperti inputnya, sehingga bisa diteruskan ke layer RNN lain, seperti ini:"
      ],
      "metadata": {
        "id": "xu2wmFCLyvGY"
      }
    },
    {
      "cell_type": "code",
      "source": [
        "model = tf.keras.Sequential([\n",
        "    encoder,\n",
        "    tf.keras.layers.Embedding(len(encoder.get_vocabulary()), 64, mask_zero=True),\n",
        "    tf.keras.layers.Bidirectional(tf.keras.layers.LSTM(64,  return_sequences=True)),\n",
        "    tf.keras.layers.Bidirectional(tf.keras.layers.LSTM(32)),\n",
        "    tf.keras.layers.Dense(64, activation='relu'),\n",
        "    tf.keras.layers.Dropout(0.5),\n",
        "    tf.keras.layers.Dense(1)\n",
        "])"
      ],
      "metadata": {
        "id": "QpOfz7vJyxHn"
      },
      "execution_count": 19,
      "outputs": []
    },
    {
      "cell_type": "code",
      "source": [
        "model.compile(loss=tf.keras.losses.BinaryCrossentropy(from_logits=True),\n",
        "              optimizer=tf.keras.optimizers.Adam(1e-4),\n",
        "              metrics=['accuracy'])"
      ],
      "metadata": {
        "id": "Wrl6vOAzy583"
      },
      "execution_count": 20,
      "outputs": []
    },
    {
      "cell_type": "code",
      "source": [
        "history = model.fit(train_dataset, epochs=10,\n",
        "                    validation_data=test_dataset,\n",
        "                    validation_steps=30)"
      ],
      "metadata": {
        "id": "kHyweHlEy-W3",
        "colab": {
          "base_uri": "https://localhost:8080/"
        },
        "outputId": "ac160268-947a-49ad-fa50-78bc377e76d6"
      },
      "execution_count": 21,
      "outputs": [
        {
          "output_type": "stream",
          "name": "stdout",
          "text": [
            "Epoch 1/10\n",
            "391/391 [==============================] - 74s 143ms/step - loss: 0.6242 - accuracy: 0.5976 - val_loss: 0.4475 - val_accuracy: 0.7786\n",
            "Epoch 2/10\n",
            "391/391 [==============================] - 44s 113ms/step - loss: 0.3938 - accuracy: 0.8278 - val_loss: 0.3646 - val_accuracy: 0.8260\n",
            "Epoch 3/10\n",
            "391/391 [==============================] - 45s 114ms/step - loss: 0.3413 - accuracy: 0.8558 - val_loss: 0.3324 - val_accuracy: 0.8620\n",
            "Epoch 4/10\n",
            "391/391 [==============================] - 45s 114ms/step - loss: 0.3229 - accuracy: 0.8652 - val_loss: 0.3237 - val_accuracy: 0.8526\n",
            "Epoch 5/10\n",
            "391/391 [==============================] - 45s 113ms/step - loss: 0.3127 - accuracy: 0.8669 - val_loss: 0.3170 - val_accuracy: 0.8693\n",
            "Epoch 6/10\n",
            "391/391 [==============================] - 45s 115ms/step - loss: 0.3101 - accuracy: 0.8706 - val_loss: 0.3128 - val_accuracy: 0.8630\n",
            "Epoch 7/10\n",
            "391/391 [==============================] - 45s 115ms/step - loss: 0.3052 - accuracy: 0.8692 - val_loss: 0.3130 - val_accuracy: 0.8635\n",
            "Epoch 8/10\n",
            "391/391 [==============================] - 57s 145ms/step - loss: 0.3024 - accuracy: 0.8722 - val_loss: 0.3174 - val_accuracy: 0.8646\n",
            "Epoch 9/10\n",
            "391/391 [==============================] - 55s 139ms/step - loss: 0.2998 - accuracy: 0.8732 - val_loss: 0.3194 - val_accuracy: 0.8641\n",
            "Epoch 10/10\n",
            "391/391 [==============================] - 51s 130ms/step - loss: 0.2988 - accuracy: 0.8716 - val_loss: 0.3177 - val_accuracy: 0.8599\n"
          ]
        }
      ]
    },
    {
      "cell_type": "code",
      "source": [
        "test_loss, test_acc = model.evaluate(test_dataset)\n",
        "\n",
        "print('Test Loss:', test_loss)\n",
        "print('Test Accuracy:', test_acc)"
      ],
      "metadata": {
        "id": "poraFtt9zGI-",
        "colab": {
          "base_uri": "https://localhost:8080/"
        },
        "outputId": "648ff3ea-cfa4-45b6-b0e9-9b536617b2dc"
      },
      "execution_count": 22,
      "outputs": [
        {
          "output_type": "stream",
          "name": "stdout",
          "text": [
            "391/391 [==============================] - 19s 48ms/step - loss: 0.3169 - accuracy: 0.8592\n",
            "Test Loss: 0.316896915435791\n",
            "Test Accuracy: 0.8592000007629395\n"
          ]
        }
      ]
    },
    {
      "cell_type": "code",
      "source": [
        "# predict on a sample text without padding.\n",
        "\n",
        "sample_text = ('The movie was not good. The animation and the graphics '\n",
        "               'were terrible. I would not recommend this movie.')\n",
        "predictions = model.predict(np.array([sample_text]))\n",
        "print(predictions)"
      ],
      "metadata": {
        "id": "BQkV7sArzI9F",
        "colab": {
          "base_uri": "https://localhost:8080/"
        },
        "outputId": "8193b9a3-c1b2-4fcf-abdf-43d5bc9ff7bb"
      },
      "execution_count": 23,
      "outputs": [
        {
          "output_type": "stream",
          "name": "stdout",
          "text": [
            "1/1 [==============================] - 6s 6s/step\n",
            "[[-1.8227631]]\n"
          ]
        }
      ]
    },
    {
      "cell_type": "code",
      "source": [
        "plt.figure(figsize=(16, 6))\n",
        "plt.subplot(1, 2, 1)\n",
        "plot_graphs(history, 'accuracy')\n",
        "plt.subplot(1, 2, 2)\n",
        "plot_graphs(history, 'loss')"
      ],
      "metadata": {
        "id": "Us_cfDGizMuA",
        "colab": {
          "base_uri": "https://localhost:8080/",
          "height": 542
        },
        "outputId": "4d72ccee-382e-49d4-9720-c18d0b181b42"
      },
      "execution_count": 24,
      "outputs": [
        {
          "output_type": "display_data",
          "data": {
            "text/plain": [
              "<Figure size 1600x600 with 2 Axes>"
            ],
            "image/png": "[encoded data removed]"
          },
          "metadata": {}
        }
      ]
    },
    {
      "cell_type": "markdown",
      "source": [
        "# **Praktikum 2**\n",
        "\n",
        "Generator Teks dengan RNN"
      ],
      "metadata": {
        "id": "Yk1WgJ_CzRWq"
      }
    },
    {
      "cell_type": "markdown",
      "source": [
        "Praktikum ini mendemonstrasikan cara melakukan genearsi text menggunakan RNN. Dataset yang digunkan adalah dataset Shakespeare's writing from Andrej Karpathy's The Unreasonable Effectiveness of Recurrent Neural Networks. Jika diberikan urutan karakter dari data ini (\"Shakespear\"), latih model untuk memprediksi karakter berikutnya dalam urutan (\"e\"). Urutan teks yang lebih panjang dapat dihasilkan dengan memanggil model berulang kali."
      ],
      "metadata": {
        "id": "5Papgo6fzeKJ"
      }
    },
    {
      "cell_type": "markdown",
      "source": [
        "Meskipun beberapa kalimat memiliki tata bahasa, sebagian besar tidak masuk akal. Model belum mempelajari arti kata-kata, namun anggap saja:\n",
        "\n",
        "-Modelnya berbasis karakter. Saat pelatihan dimulai, model tidak mengetahui cara mengeja kata dalam bahasa Inggris, atau bahkan kata-kata tersebut merupakan satuan teks.\n",
        "\n",
        "-Struktur keluarannya menyerupai sandiwara—blok teks umumnya dimulai dengan nama pembicara, dengan huruf kapital semua mirip dengan kumpulan data.\n",
        "\n",
        "-Seperti yang ditunjukkan di bawah, model dilatih pada kumpulan teks kecil (masing-masing 100 karakter), dan masih mampu menghasilkan rangkaian teks yang lebih panjang dengan struktur yang koheren."
      ],
      "metadata": {
        "id": "JBA04F_Kzhzj"
      }
    },
    {
      "cell_type": "markdown",
      "source": [
        "# **Setup**"
      ],
      "metadata": {
        "id": "ObtkJNPOz1qf"
      }
    },
    {
      "cell_type": "markdown",
      "source": [
        "# **Import TensorFlow**"
      ],
      "metadata": {
        "id": "MBn0FQXhz4TU"
      }
    },
    {
      "cell_type": "code",
      "source": [
        "import tensorflow as tf\n",
        "import numpy as np\n",
        "import os\n",
        "import time"
      ],
      "metadata": {
        "id": "QeillCn-z8uR"
      },
      "execution_count": 25,
      "outputs": []
    },
    {
      "cell_type": "markdown",
      "source": [
        "# **Download Dataset Shakespeare**\n",
        "\n",
        "Sesuaikan dengan lokasi data yang Anda punya."
      ],
      "metadata": {
        "id": "J8WrwvZR0AWT"
      }
    },
    {
      "cell_type": "code",
      "source": [
        "path_to_file = tf.keras.utils.get_file('shakespeare.txt', 'https://storage.googleapis.com/download.tensorflow.org/data/shakespeare.txt')"
      ],
      "metadata": {
        "id": "tEqSbVwa0DOV",
        "colab": {
          "base_uri": "https://localhost:8080/"
        },
        "outputId": "35b59503-14bd-4030-8cc6-5c500a525a6c"
      },
      "execution_count": 27,
      "outputs": [
        {
          "output_type": "stream",
          "name": "stdout",
          "text": [
            "Downloading data from https://storage.googleapis.com/download.tensorflow.org/data/shakespeare.txt\n",
            "1115394/1115394 [==============================] - 1s 1us/step\n"
          ]
        }
      ]
    },
    {
      "cell_type": "markdown",
      "source": [
        "# **Load Data**"
      ],
      "metadata": {
        "id": "ZE8_xFOR0XyR"
      }
    },
    {
      "cell_type": "code",
      "source": [
        "# Read, then decode for py2 compat.\n",
        "text = open(path_to_file, 'rb').read().decode(encoding='utf-8')\n",
        "# length of text is the number of characters in it\n",
        "print(f'Length of text: {len(text)} characters')"
      ],
      "metadata": {
        "id": "T4ec-kbo0aFc",
        "colab": {
          "base_uri": "https://localhost:8080/"
        },
        "outputId": "94548350-5743-453a-cd0b-f022cee1dee1"
      },
      "execution_count": 28,
      "outputs": [
        {
          "output_type": "stream",
          "name": "stdout",
          "text": [
            "Length of text: 1115394 characters\n"
          ]
        }
      ]
    },
    {
      "cell_type": "code",
      "source": [
        "# Take a look at the first 250 characters in text\n",
        "print(text[:250])"
      ],
      "metadata": {
        "id": "mA06OX-O0cHI",
        "colab": {
          "base_uri": "https://localhost:8080/"
        },
        "outputId": "c002dfa9-b41d-4e09-c957-8d6e01b6b863"
      },
      "execution_count": 29,
      "outputs": [
        {
          "output_type": "stream",
          "name": "stdout",
          "text": [
            "First Citizen:\n",
            "Before we proceed any further, hear me speak.\n",
            "\n",
            "All:\n",
            "Speak, speak.\n",
            "\n",
            "First Citizen:\n",
            "You are all resolved rather to die than to famish?\n",
            "\n",
            "All:\n",
            "Resolved. resolved.\n",
            "\n",
            "First Citizen:\n",
            "First, you know Caius Marcius is chief enemy to the people.\n",
            "\n"
          ]
        }
      ]
    },
    {
      "cell_type": "code",
      "source": [
        "# The unique characters in the file\n",
        "vocab = sorted(set(text))\n",
        "print(f'{len(vocab)} unique characters')"
      ],
      "metadata": {
        "id": "y9Lm8gbz0dy6",
        "colab": {
          "base_uri": "https://localhost:8080/"
        },
        "outputId": "51b35090-1b13-4bf4-8aa0-c666b69b0e15"
      },
      "execution_count": 30,
      "outputs": [
        {
          "output_type": "stream",
          "name": "stdout",
          "text": [
            "65 unique characters\n"
          ]
        }
      ]
    },
    {
      "cell_type": "markdown",
      "source": [
        "# **Olah Teks**\n",
        "\n",
        "**Vectorize Teks**\n",
        "\n",
        "Sebelum training, Anda perlu mengonversi string menjadi representasi numerik. tf.keras.layers.StringLookup dapat mengubah setiap karakter menjadi ID numerik. Caranya adalah teks akan dipecah menjadi token terlebih dahulu."
      ],
      "metadata": {
        "id": "7TE9b3aA0f16"
      }
    },
    {
      "cell_type": "code",
      "source": [
        "example_texts = ['abcdefg', 'xyz']\n",
        "chars = tf.strings.unicode_split(example_texts, input_encoding='UTF-8')\n",
        "chars"
      ],
      "metadata": {
        "id": "8Ksw6ywJ0n-v",
        "colab": {
          "base_uri": "https://localhost:8080/"
        },
        "outputId": "b38887b3-fd61-4207-f207-b24fc4984a7d"
      },
      "execution_count": 31,
      "outputs": [
        {
          "output_type": "execute_result",
          "data": {
            "text/plain": [
              "<tf.RaggedTensor [[b'a', b'b', b'c', b'd', b'e', b'f', b'g'], [b'x', b'y', b'z']]>"
            ]
          },
          "metadata": {},
          "execution_count": 31
        }
      ]
    },
    {
      "cell_type": "markdown",
      "source": [
        "sekarang buat tf.keras.layers.StringLookup layer:"
      ],
      "metadata": {
        "id": "IYxKkMP50vKH"
      }
    },
    {
      "cell_type": "code",
      "source": [
        "ids_from_chars = tf.keras.layers.StringLookup(\n",
        "vocabulary=list(vocab), mask_token=None)"
      ],
      "metadata": {
        "id": "vVo-ks0F0xVv"
      },
      "execution_count": 32,
      "outputs": []
    },
    {
      "cell_type": "markdown",
      "source": [
        "perintah diatas mengconvert token menjadi id"
      ],
      "metadata": {
        "id": "nDmzGGjA01fB"
      }
    },
    {
      "cell_type": "code",
      "source": [
        "ids = ids_from_chars(chars)\n",
        "ids"
      ],
      "metadata": {
        "id": "uIfGRh9u06qq",
        "colab": {
          "base_uri": "https://localhost:8080/"
        },
        "outputId": "4a3b8c4e-327f-4edf-b583-f67f58b59939"
      },
      "execution_count": 33,
      "outputs": [
        {
          "output_type": "execute_result",
          "data": {
            "text/plain": [
              "<tf.RaggedTensor [[40, 41, 42, 43, 44, 45, 46], [63, 64, 65]]>"
            ]
          },
          "metadata": {},
          "execution_count": 33
        }
      ]
    },
    {
      "cell_type": "markdown",
      "source": [
        "Karena tujuan tutorial ini adalah untuk menghasilkan teks, penting juga untuk membalikkan representasi ini. Untuk ini Anda dapat menggunakan kode tf.keras.layers.StringLookup(..., invert=True).\n",
        "\n",
        "Catatan: pada kode ini, daripada meneruskan kosakata asli yang dihasilkan dengan diurutkan(set(teks)) gunakan metode get_vocabulary() dari tf.keras.layers.StringLookup sehingga token [UNK] disetel dengan cara yang sama."
      ],
      "metadata": {
        "id": "oibJUPCW0_UU"
      }
    },
    {
      "cell_type": "code",
      "source": [
        "chars_from_ids = tf.keras.layers.StringLookup(\n",
        "    vocabulary=ids_from_chars.get_vocabulary(), invert=True, mask_token=None)"
      ],
      "metadata": {
        "id": "wGyfbLj01DwG"
      },
      "execution_count": 34,
      "outputs": []
    },
    {
      "cell_type": "markdown",
      "source": [
        "Lapisan ini mengconvert kembali karakter dari vektor ID, dan mengembalikannya sebagai karakter tf.RaggedTensor:"
      ],
      "metadata": {
        "id": "mOyVr2011Gsg"
      }
    },
    {
      "cell_type": "code",
      "source": [
        "chars = chars_from_ids(ids)\n",
        "chars"
      ],
      "metadata": {
        "id": "IlJ_E-Om1Hez",
        "colab": {
          "base_uri": "https://localhost:8080/"
        },
        "outputId": "5f729f4f-5f40-4ead-973d-f67aa3ba99a7"
      },
      "execution_count": 35,
      "outputs": [
        {
          "output_type": "execute_result",
          "data": {
            "text/plain": [
              "<tf.RaggedTensor [[b'a', b'b', b'c', b'd', b'e', b'f', b'g'], [b'x', b'y', b'z']]>"
            ]
          },
          "metadata": {},
          "execution_count": 35
        }
      ]
    },
    {
      "cell_type": "markdown",
      "source": [
        "Anda dapat menggunakan tf.strings.reduce_join untuk menggabungkan kembali karakter menjadi string."
      ],
      "metadata": {
        "id": "9ls3WZVJ1KwB"
      }
    },
    {
      "cell_type": "code",
      "source": [
        "tf.strings.reduce_join(chars, axis=-1).numpy()"
      ],
      "metadata": {
        "id": "kP8w1zPu1M2Q",
        "colab": {
          "base_uri": "https://localhost:8080/"
        },
        "outputId": "dbe9efd9-d0e0-43ea-e2a6-e450fd84b5d0"
      },
      "execution_count": 36,
      "outputs": [
        {
          "output_type": "execute_result",
          "data": {
            "text/plain": [
              "array([b'abcdefg', b'xyz'], dtype=object)"
            ]
          },
          "metadata": {},
          "execution_count": 36
        }
      ]
    },
    {
      "cell_type": "code",
      "source": [
        "def text_from_ids(ids):\n",
        "    return tf.strings.reduce_join(chars_from_ids(ids), axis=-1)"
      ],
      "metadata": {
        "id": "0pUUfgQd1PXQ"
      },
      "execution_count": 37,
      "outputs": []
    },
    {
      "cell_type": "markdown",
      "source": [
        "# **Prediksi**\n",
        "\n",
        "Diberikan sebuah karakter, atau serangkaian karakter, karakter apa yang paling mungkin berikutnya? Ini adalah tugas yang harus Anda latih agar model dapat melakukannya. Masukan ke model akan berupa urutan karakter, dan Anda melatih model untuk memprediksi keluaran berupa karakter berikut pada setiap langkah waktu. Karena RNN mempertahankan keadaan internal yang bergantung pada elemen yang terlihat sebelumnya, mengingat semua karakter dihitung hingga saat ini, karakter apa selanjutnya?"
      ],
      "metadata": {
        "id": "kYS79g0g1Wk-"
      }
    },
    {
      "cell_type": "markdown",
      "source": [
        "# **Membuat Trianing Set dan Target**\n",
        "\n",
        "Selanjutnya bagilah teks menjadi contoh sequence. Setiap masukan sequence akan berisi karakter seq_length dari teks. Untuk setiap masukan sequence, target prediksi berisi teks dengan panjang yang sama, hanya digeser satu karakter ke kanan. Jadi, bagi teks menjadi beberapa bagian seq_length+1. Misalnya, seq_length adalah 4 dan teks kita adalah \"Hello\". Urutan masukannya adalah \"Hell\", dan urutan targetnya adalah \"ello\". Untuk melakukan ini, pertama-tama gunakan fungsi tf.data.Dataset.from_tensor_slices untuk mengonversi vektor teks menjadi aliran indeks karakter."
      ],
      "metadata": {
        "id": "UmWEM57_1bmT"
      }
    },
    {
      "cell_type": "code",
      "source": [
        "all_ids = ids_from_chars(tf.strings.unicode_split(text, 'UTF-8'))\n",
        "all_ids"
      ],
      "metadata": {
        "id": "u7in2y1e1gwJ",
        "colab": {
          "base_uri": "https://localhost:8080/"
        },
        "outputId": "cb04eb48-6ae5-4459-d6e3-ced05ca19634"
      },
      "execution_count": 38,
      "outputs": [
        {
          "output_type": "execute_result",
          "data": {
            "text/plain": [
              "<tf.Tensor: shape=(1115394,), dtype=int64, numpy=array([19, 48, 57, ..., 46,  9,  1])>"
            ]
          },
          "metadata": {},
          "execution_count": 38
        }
      ]
    },
    {
      "cell_type": "code",
      "source": [
        "ids_dataset = tf.data.Dataset.from_tensor_slices(all_ids)"
      ],
      "metadata": {
        "id": "S44ibkXr1mgU"
      },
      "execution_count": 39,
      "outputs": []
    },
    {
      "cell_type": "code",
      "source": [
        "for ids in ids_dataset.take(10):\n",
        "    print(chars_from_ids(ids).numpy().decode('utf-8'))"
      ],
      "metadata": {
        "id": "cGL6U7DH1pSO",
        "colab": {
          "base_uri": "https://localhost:8080/"
        },
        "outputId": "301dd5fd-8c4d-40d3-a1fa-141bf4ebd5a4"
      },
      "execution_count": 40,
      "outputs": [
        {
          "output_type": "stream",
          "name": "stdout",
          "text": [
            "F\n",
            "i\n",
            "r\n",
            "s\n",
            "t\n",
            " \n",
            "C\n",
            "i\n",
            "t\n",
            "i\n"
          ]
        }
      ]
    },
    {
      "cell_type": "code",
      "source": [
        "seq_length = 100"
      ],
      "metadata": {
        "id": "7NsDIdqe1tTp"
      },
      "execution_count": 41,
      "outputs": []
    },
    {
      "cell_type": "markdown",
      "source": [
        "Metode batch memungkinkan Anda dengan mudah mengonversi karakter individual ini menjadi urutan ukuran yang diinginkan."
      ],
      "metadata": {
        "id": "oK9MMSfN1wLG"
      }
    },
    {
      "cell_type": "code",
      "source": [
        "sequences = ids_dataset.batch(seq_length+1, drop_remainder=True)\n",
        "\n",
        "for seq in sequences.take(1):\n",
        "  print(chars_from_ids(seq))"
      ],
      "metadata": {
        "id": "v_tyvm8V1xIr",
        "colab": {
          "base_uri": "https://localhost:8080/"
        },
        "outputId": "dcfe4400-3c6e-4715-ee63-0260006b0b77"
      },
      "execution_count": 42,
      "outputs": [
        {
          "output_type": "stream",
          "name": "stdout",
          "text": [
            "tf.Tensor(\n",
            "[b'F' b'i' b'r' b's' b't' b' ' b'C' b'i' b't' b'i' b'z' b'e' b'n' b':'\n",
            " b'\\n' b'B' b'e' b'f' b'o' b'r' b'e' b' ' b'w' b'e' b' ' b'p' b'r' b'o'\n",
            " b'c' b'e' b'e' b'd' b' ' b'a' b'n' b'y' b' ' b'f' b'u' b'r' b't' b'h'\n",
            " b'e' b'r' b',' b' ' b'h' b'e' b'a' b'r' b' ' b'm' b'e' b' ' b's' b'p'\n",
            " b'e' b'a' b'k' b'.' b'\\n' b'\\n' b'A' b'l' b'l' b':' b'\\n' b'S' b'p' b'e'\n",
            " b'a' b'k' b',' b' ' b's' b'p' b'e' b'a' b'k' b'.' b'\\n' b'\\n' b'F' b'i'\n",
            " b'r' b's' b't' b' ' b'C' b'i' b't' b'i' b'z' b'e' b'n' b':' b'\\n' b'Y'\n",
            " b'o' b'u' b' '], shape=(101,), dtype=string)\n"
          ]
        }
      ]
    },
    {
      "cell_type": "markdown",
      "source": [
        "akan lebih mudah untuk melihat apa yang dilakukan jika Anda menggabungkan token kembali menjadi string:"
      ],
      "metadata": {
        "id": "vdTgt6VA1zOW"
      }
    },
    {
      "cell_type": "code",
      "source": [
        "for seq in sequences.take(5):\n",
        "    print(text_from_ids(seq).numpy())"
      ],
      "metadata": {
        "id": "eBfuRIdw11zV",
        "colab": {
          "base_uri": "https://localhost:8080/"
        },
        "outputId": "6151d9fb-8e2f-474f-a148-8269b63be5a0"
      },
      "execution_count": 43,
      "outputs": [
        {
          "output_type": "stream",
          "name": "stdout",
          "text": [
            "b'First Citizen:\\nBefore we proceed any further, hear me speak.\\n\\nAll:\\nSpeak, speak.\\n\\nFirst Citizen:\\nYou '\n",
            "b'are all resolved rather to die than to famish?\\n\\nAll:\\nResolved. resolved.\\n\\nFirst Citizen:\\nFirst, you k'\n",
            "b\"now Caius Marcius is chief enemy to the people.\\n\\nAll:\\nWe know't, we know't.\\n\\nFirst Citizen:\\nLet us ki\"\n",
            "b\"ll him, and we'll have corn at our own price.\\nIs't a verdict?\\n\\nAll:\\nNo more talking on't; let it be d\"\n",
            "b'one: away, away!\\n\\nSecond Citizen:\\nOne word, good citizens.\\n\\nFirst Citizen:\\nWe are accounted poor citi'\n"
          ]
        }
      ]
    },
    {
      "cell_type": "markdown",
      "source": [
        "Untuk pelatihan, Anda memerlukan kumpulan data pasangan (input, label). Dimana input dan label merupakan urutan. Pada setiap langkah waktu, inputnya adalah karakter saat ini dan labelnya adalah karakter berikutnya. Berikut adalah fungsi yang mengambil urutan sebagai masukan, menduplikasi, dan menggesernya untuk menyelaraskan masukan dan label untuk setiap langkah waktu:"
      ],
      "metadata": {
        "id": "BQ0vhCha17Lt"
      }
    },
    {
      "cell_type": "code",
      "source": [
        "def split_input_target(sequence):\n",
        "    input_text = sequence[:-1]\n",
        "    target_text = sequence[1:]\n",
        "    return input_text, target_text"
      ],
      "metadata": {
        "id": "4zT-7IUN17_K"
      },
      "execution_count": 44,
      "outputs": []
    },
    {
      "cell_type": "code",
      "source": [
        "split_input_target(list(\"Tensorflow\"))"
      ],
      "metadata": {
        "id": "7vdrKjCX2Eo_",
        "colab": {
          "base_uri": "https://localhost:8080/"
        },
        "outputId": "8463a92d-49e1-4d2e-8f79-9e9cc75d7dba"
      },
      "execution_count": 45,
      "outputs": [
        {
          "output_type": "execute_result",
          "data": {
            "text/plain": [
              "(['T', 'e', 'n', 's', 'o', 'r', 'f', 'l', 'o'],\n",
              " ['e', 'n', 's', 'o', 'r', 'f', 'l', 'o', 'w'])"
            ]
          },
          "metadata": {},
          "execution_count": 45
        }
      ]
    },
    {
      "cell_type": "code",
      "source": [
        "dataset = sequences.map(split_input_target)"
      ],
      "metadata": {
        "id": "uXrdZr-E2FcG"
      },
      "execution_count": 46,
      "outputs": []
    },
    {
      "cell_type": "code",
      "source": [
        "for input_example, target_example in dataset.take(1):\n",
        "    print(\"Input :\", text_from_ids(input_example).numpy())\n",
        "    print(\"Target:\", text_from_ids(target_example).numpy())"
      ],
      "metadata": {
        "id": "dfhrIspx2JII",
        "colab": {
          "base_uri": "https://localhost:8080/"
        },
        "outputId": "ad023cde-58fc-40e7-d206-977098720e92"
      },
      "execution_count": 47,
      "outputs": [
        {
          "output_type": "stream",
          "name": "stdout",
          "text": [
            "Input : b'First Citizen:\\nBefore we proceed any further, hear me speak.\\n\\nAll:\\nSpeak, speak.\\n\\nFirst Citizen:\\nYou'\n",
            "Target: b'irst Citizen:\\nBefore we proceed any further, hear me speak.\\n\\nAll:\\nSpeak, speak.\\n\\nFirst Citizen:\\nYou '\n"
          ]
        }
      ]
    },
    {
      "cell_type": "markdown",
      "source": [
        "# **Membuat Batch Training**\n",
        "\n",
        "Anda menggunakan tf.data untuk membagi teks menjadi sequence yang dapat diatur. Namun sebelum memasukkan data ini ke dalam model, Anda perlu mengacak data dan mengemasnya ke dalam batch."
      ],
      "metadata": {
        "id": "Gcx51GI42QdJ"
      }
    },
    {
      "cell_type": "code",
      "source": [
        "# Batch size\n",
        "BATCH_SIZE = 64\n",
        "\n",
        "# Buffer size to shuffle the dataset\n",
        "# (TF data is designed to work with possibly infinite sequences,\n",
        "# so it doesn't attempt to shuffle the entire sequence in memory. Instead,\n",
        "# it maintains a buffer in which it shuffles elements).\n",
        "BUFFER_SIZE = 10000\n",
        "\n",
        "dataset = (\n",
        "    dataset\n",
        "    .shuffle(BUFFER_SIZE)\n",
        "    .batch(BATCH_SIZE, drop_remainder=True)\n",
        "    .prefetch(tf.data.experimental.AUTOTUNE))\n",
        "\n",
        "dataset"
      ],
      "metadata": {
        "id": "VvKtJYS_2UYL",
        "colab": {
          "base_uri": "https://localhost:8080/"
        },
        "outputId": "805cfd07-0369-425f-b897-3226c842a48b"
      },
      "execution_count": 48,
      "outputs": [
        {
          "output_type": "execute_result",
          "data": {
            "text/plain": [
              "<_PrefetchDataset element_spec=(TensorSpec(shape=(64, 100), dtype=tf.int64, name=None), TensorSpec(shape=(64, 100), dtype=tf.int64, name=None))>"
            ]
          },
          "metadata": {},
          "execution_count": 48
        }
      ]
    },
    {
      "cell_type": "markdown",
      "source": [
        "# **Buat Model**\n",
        "\n",
        "Bagian ini mendefinisikan model sebagai subkelas keras.Model (untuk lebih detilnya, lihat Making new Layers and Models via subclassing).\n",
        "\n",
        "Model yang kita bangun memiliki 3 lapisan neural network :\n",
        "\n",
        "  - tf.keras.layers.Embedding: Lapisan masukan. Tabel pencarian yang dapat dilatih yang akan memetakan setiap karakter-ID ke vektor dengan dimensi embedding_dim;\n",
        "\n",
        "  - tf.keras.layers.GRU: lapisan RNN dengan ukuran unit=rnn_units (Anda juga dapat menggunakan lapisan LSTM di sini.)\n",
        "\n",
        "  - tf.keras.layers.Dense: Lapisan keluaran, dengan keluaran vocab_size. Ini menghasilkan satu logit untuk setiap karakter dalam kosakata. Ini adalah log kemungkinan setiap karakter menurut model."
      ],
      "metadata": {
        "id": "0DtnbRda2Y1P"
      }
    },
    {
      "cell_type": "code",
      "source": [
        "# Length of the vocabulary in StringLookup Layer\n",
        "vocab_size = len(ids_from_chars.get_vocabulary())\n",
        "\n",
        "# The embedding dimension\n",
        "embedding_dim = 256\n",
        "\n",
        "# Number of RNN units\n",
        "rnn_units = 1024"
      ],
      "metadata": {
        "id": "XXEj6O082mPS"
      },
      "execution_count": 49,
      "outputs": []
    },
    {
      "cell_type": "code",
      "source": [
        "class MyModel(tf.keras.Model):\n",
        "  def __init__(self, vocab_size, embedding_dim, rnn_units):\n",
        "    super().__init__(self)\n",
        "    self.embedding = tf.keras.layers.Embedding(vocab_size, embedding_dim)\n",
        "    self.gru = tf.keras.layers.GRU(rnn_units,\n",
        "                                   return_sequences=True,\n",
        "                                   return_state=True)\n",
        "    self.dense = tf.keras.layers.Dense(vocab_size)\n",
        "\n",
        "  def call(self, inputs, states=None, return_state=False, training=False):\n",
        "    x = inputs\n",
        "    x = self.embedding(x, training=training)\n",
        "    if states is None:\n",
        "      states = self.gru.get_initial_state(x)\n",
        "    x, states = self.gru(x, initial_state=states, training=training)\n",
        "    x = self.dense(x, training=training)\n",
        "\n",
        "    if return_state:\n",
        "      return x, states\n",
        "    else:\n",
        "      return x"
      ],
      "metadata": {
        "id": "AGOfUkZs2m8G"
      },
      "execution_count": 50,
      "outputs": []
    },
    {
      "cell_type": "code",
      "source": [
        "model = MyModel(\n",
        "    vocab_size=vocab_size,\n",
        "    embedding_dim=embedding_dim,\n",
        "    rnn_units=rnn_units)"
      ],
      "metadata": {
        "id": "_NDAfy4n2qN5"
      },
      "execution_count": 51,
      "outputs": []
    },
    {
      "cell_type": "markdown",
      "source": [
        "# **Uji Model**\n",
        "\n",
        "Coba jalankan model dan cek apakah sidah sesuai dengan output\n",
        "pertama, cek bentuk dari output"
      ],
      "metadata": {
        "id": "8YVdlcsZ2wKs"
      }
    },
    {
      "cell_type": "code",
      "source": [
        "for input_example_batch, target_example_batch in dataset.take(1):\n",
        "    example_batch_predictions = model(input_example_batch)\n",
        "    print(example_batch_predictions.shape, \"# (batch_size, sequence_length, vocab_size)\")"
      ],
      "metadata": {
        "id": "i5OSy3EE2y_m",
        "colab": {
          "base_uri": "https://localhost:8080/"
        },
        "outputId": "f6ae1e45-1b58-4ba9-a0d4-d9abff7baeb4"
      },
      "execution_count": 52,
      "outputs": [
        {
          "output_type": "stream",
          "name": "stdout",
          "text": [
            "(64, 100, 66) # (batch_size, sequence_length, vocab_size)\n"
          ]
        }
      ]
    },
    {
      "cell_type": "markdown",
      "source": [
        "Dalam contoh di atas, panjang urutan masukan adalah 100 tetapi model dapat dijalankan pada masukan dengan panjang berapa pun:"
      ],
      "metadata": {
        "id": "CcRNAhAQ22Lg"
      }
    },
    {
      "cell_type": "code",
      "source": [
        "model.summary()"
      ],
      "metadata": {
        "id": "PA2eGUkW24Zs",
        "colab": {
          "base_uri": "https://localhost:8080/"
        },
        "outputId": "edbf0179-4df4-4931-fffe-bd4915d88062"
      },
      "execution_count": 53,
      "outputs": [
        {
          "output_type": "stream",
          "name": "stdout",
          "text": [
            "Model: \"my_model\"\n",
            "_________________________________________________________________\n",
            " Layer (type)                Output Shape              Param #   \n",
            "=================================================================\n",
            " embedding_2 (Embedding)     multiple                  16896     \n",
            "                                                                 \n",
            " gru (GRU)                   multiple                  3938304   \n",
            "                                                                 \n",
            " dense_4 (Dense)             multiple                  67650     \n",
            "                                                                 \n",
            "=================================================================\n",
            "Total params: 4022850 (15.35 MB)\n",
            "Trainable params: 4022850 (15.35 MB)\n",
            "Non-trainable params: 0 (0.00 Byte)\n",
            "_________________________________________________________________\n"
          ]
        }
      ]
    },
    {
      "cell_type": "markdown",
      "source": [
        "Untuk mendapatkan prediksi aktual dari model, Anda perlu mengambil sampel dari distribusi keluaran, untuk mendapatkan indeks karakter aktual. Distribusi ini ditentukan oleh logit pada kosakata karakter. Catatan: Penting untuk mengambil sampel dari distribusi ini karena mengambil argmax dari distribusi tersebut dapat dengan mudah membuat model terjebak dalam infinote loop. Cobalah untuk contoh pertama di batch:"
      ],
      "metadata": {
        "id": "Nd8TDfMK26ke"
      }
    },
    {
      "cell_type": "code",
      "source": [
        "sampled_indices = tf.random.categorical(example_batch_predictions[0], num_samples=1)\n",
        "sampled_indices = tf.squeeze(sampled_indices, axis=-1).numpy()"
      ],
      "metadata": {
        "id": "VWeazjzo27SC"
      },
      "execution_count": 54,
      "outputs": []
    },
    {
      "cell_type": "markdown",
      "source": [
        "Hal ini memberi kita, pada setiap langkah waktu, prediksi indeks karakter berikutnya:"
      ],
      "metadata": {
        "id": "oB0sb7_Y3BoY"
      }
    },
    {
      "cell_type": "code",
      "source": [
        "sampled_indices"
      ],
      "metadata": {
        "id": "b4-Mstm_3DXY",
        "colab": {
          "base_uri": "https://localhost:8080/"
        },
        "outputId": "1b47fbb9-230e-4cf7-b4a8-24b4ad41d12a"
      },
      "execution_count": 55,
      "outputs": [
        {
          "output_type": "execute_result",
          "data": {
            "text/plain": [
              "array([37, 26,  8, 65, 17, 56, 27, 42, 64, 22, 13, 20, 14, 24, 50,  2,  9,\n",
              "       58, 13, 22, 33, 17, 17, 36, 61, 20, 41, 26, 52, 61, 31,  5, 48,  1,\n",
              "       31,  6, 14, 55, 52, 17, 37, 29, 54, 61, 57, 37,  7, 65, 56, 21, 59,\n",
              "       11, 25, 23, 59, 60,  0, 63, 47, 15, 22,  8, 56, 31, 11, 39, 41, 21,\n",
              "       27, 50, 64, 30,  9, 37, 28, 62, 45, 65, 34,  7, 64, 36, 19, 54, 16,\n",
              "       45, 65, 64, 47, 46, 12, 15, 37, 40, 43, 35, 59, 64, 63, 58])"
            ]
          },
          "metadata": {},
          "execution_count": 55
        }
      ]
    },
    {
      "cell_type": "markdown",
      "source": [
        "Dekode kode berikut untuk melihat teks yang diprediksi oleh model tidak terlatih ini:"
      ],
      "metadata": {
        "id": "5GL_2DOL3Fcp"
      }
    },
    {
      "cell_type": "code",
      "source": [
        "print(\"Input:\\n\", text_from_ids(input_example_batch[0]).numpy())\n",
        "print()\n",
        "print(\"Next Char Predictions:\\n\", text_from_ids(sampled_indices).numpy())"
      ],
      "metadata": {
        "id": "xB6sxDCE3GJ9",
        "colab": {
          "base_uri": "https://localhost:8080/"
        },
        "outputId": "cf3ff8c3-00c4-4ae3-df5d-d980bdd99b48"
      },
      "execution_count": 56,
      "outputs": [
        {
          "output_type": "stream",
          "name": "stdout",
          "text": [
            "Input:\n",
            " b\"er.\\n\\nROMEO:\\nHere's goodly gear!\\n\\nMERCUTIO:\\nA sail, a sail!\\n\\nBENVOLIO:\\nTwo, two; a shirt and a smock.\"\n",
            "\n",
            "Next Char Predictions:\n",
            " b\"XM-zDqNcyI?GAKk .s?ITDDWvGbMmvR&i\\nR'ApmDXPovrX,zqHt:LJtu[UNK]xhBI-qR:ZbHNkyQ.XOwfzU,yWFoCfzyhg;BXadVtyxs\"\n"
          ]
        }
      ]
    },
    {
      "cell_type": "markdown",
      "source": [
        "# **Train Model**\n",
        "\n",
        "Pada titik ini permasalahan dapat dianggap sebagai permasalahan klasifikasi standar. Permasalahan dapat disimpulkan dengan : Berdasarkan status RNN sebelumnya, dan masukan langkah kali ini, prediksi kelas karakter berikutnya."
      ],
      "metadata": {
        "id": "9ww_0SGo3LL0"
      }
    },
    {
      "cell_type": "markdown",
      "source": [
        "**Tambahan optimizer dan fungsi loss**\n",
        "\n",
        "loss function tf.keras.losses.sparse_categorical_crossentropy standar berfungsi dalam kasus ini karena diterapkan di seluruh dimensi terakhir prediksi. Karena model Anda mengembalikan logits, Anda perlu mengatur flag from_logits."
      ],
      "metadata": {
        "id": "UtMOK9-c3Pg5"
      }
    },
    {
      "cell_type": "code",
      "source": [
        "loss = tf.losses.SparseCategoricalCrossentropy(from_logits=True)"
      ],
      "metadata": {
        "id": "qIeGhkxK3S14"
      },
      "execution_count": 57,
      "outputs": []
    },
    {
      "cell_type": "code",
      "source": [
        "example_batch_mean_loss = loss(target_example_batch, example_batch_predictions)\n",
        "print(\"Prediction shape: \", example_batch_predictions.shape, \" # (batch_size, sequence_length, vocab_size)\")\n",
        "print(\"Mean loss:        \", example_batch_mean_loss)"
      ],
      "metadata": {
        "id": "Dsla5O-Y3VW1",
        "colab": {
          "base_uri": "https://localhost:8080/"
        },
        "outputId": "e09343db-075b-4a5d-8625-2cf1cead6f21"
      },
      "execution_count": 58,
      "outputs": [
        {
          "output_type": "stream",
          "name": "stdout",
          "text": [
            "Prediction shape:  (64, 100, 66)  # (batch_size, sequence_length, vocab_size)\n",
            "Mean loss:         tf.Tensor(4.188709, shape=(), dtype=float32)\n"
          ]
        }
      ]
    },
    {
      "cell_type": "markdown",
      "source": [
        "Model yang baru diinisialisasi tidak boleh terlalu yakin dengan dirinya sendiri, semua log keluaran harus memiliki besaran yang sama. Untuk mengonfirmasi hal ini, Anda dapat memeriksa bahwa eksponensial dari loss rata-rata harus kira-kira sama dengan ukuran kosakata. Loss yang jauh lebih tinggi berarti model tersebut yakin akan jawaban yang salah, dan memiliki inisialisasi yang buruk:"
      ],
      "metadata": {
        "id": "AvB4gXBS3Yus"
      }
    },
    {
      "cell_type": "code",
      "source": [
        "tf.exp(example_batch_mean_loss).numpy()"
      ],
      "metadata": {
        "id": "n5SLJjyp3ZmM",
        "colab": {
          "base_uri": "https://localhost:8080/"
        },
        "outputId": "529dabe0-4f63-4bb5-fde1-30bd813e4030"
      },
      "execution_count": 59,
      "outputs": [
        {
          "output_type": "execute_result",
          "data": {
            "text/plain": [
              "65.9376"
            ]
          },
          "metadata": {},
          "execution_count": 59
        }
      ]
    },
    {
      "cell_type": "markdown",
      "source": [
        "Konfigurasikan prosedur pelatihan menggunakan metode tf.keras.Model.compile. Gunakan tf.keras.optimizers.Adam dengan argumen default dan fungsi loss."
      ],
      "metadata": {
        "id": "lD-pkLS53bhm"
      }
    },
    {
      "cell_type": "code",
      "source": [
        "model.compile(optimizer='adam', loss=loss)"
      ],
      "metadata": {
        "id": "caOsj9bO3d8Y"
      },
      "execution_count": 60,
      "outputs": []
    },
    {
      "cell_type": "markdown",
      "source": [
        "# **Konfigurasi Checkpoints**\n",
        "\n",
        "Gunakan tf.keras.callbacks.ModelCheckpoint untuk memastikan bahwa checkpoint disimpan selama pelatihan:"
      ],
      "metadata": {
        "id": "n7F54P2b3iD8"
      }
    },
    {
      "cell_type": "code",
      "source": [
        "# Directory where the checkpoints will be saved\n",
        "checkpoint_dir = './training_checkpoints'\n",
        "# Name of the checkpoint files\n",
        "checkpoint_prefix = os.path.join(checkpoint_dir, \"ckpt_{epoch}\")\n",
        "\n",
        "checkpoint_callback = tf.keras.callbacks.ModelCheckpoint(\n",
        "    filepath=checkpoint_prefix,\n",
        "    save_weights_only=True)"
      ],
      "metadata": {
        "id": "x1jAh9S83lA-"
      },
      "execution_count": 61,
      "outputs": []
    },
    {
      "cell_type": "markdown",
      "source": [
        "# **Lakukan Proses Training**\n",
        "\n",
        "Agar waktu pelatihan tidak terlalu lama, gunakan 10 epoch untuk melatih model. Di Colab, setel runtime ke GPU untuk pelatihan yang lebih cepat."
      ],
      "metadata": {
        "id": "tb9Bt4yC3m8Y"
      }
    },
    {
      "cell_type": "code",
      "source": [
        "EPOCHS = 20"
      ],
      "metadata": {
        "id": "KDymAbIb3sOk"
      },
      "execution_count": 62,
      "outputs": []
    },
    {
      "cell_type": "code",
      "source": [
        "history = model.fit(dataset, epochs=EPOCHS, callbacks=[checkpoint_callback])"
      ],
      "metadata": {
        "id": "LIkDcOPJ3teg",
        "colab": {
          "base_uri": "https://localhost:8080/"
        },
        "outputId": "23b6f08f-1727-4cd4-ef3e-d5e37c3184a3"
      },
      "execution_count": 63,
      "outputs": [
        {
          "output_type": "stream",
          "name": "stdout",
          "text": [
            "Epoch 1/20\n",
            "172/172 [==============================] - 15s 58ms/step - loss: 2.6948\n",
            "Epoch 2/20\n",
            "172/172 [==============================] - 12s 58ms/step - loss: 1.9726\n",
            "Epoch 3/20\n",
            "172/172 [==============================] - 13s 60ms/step - loss: 1.6906\n",
            "Epoch 4/20\n",
            "172/172 [==============================] - 11s 56ms/step - loss: 1.5325\n",
            "Epoch 5/20\n",
            "172/172 [==============================] - 11s 57ms/step - loss: 1.4369\n",
            "Epoch 6/20\n",
            "172/172 [==============================] - 11s 56ms/step - loss: 1.3715\n",
            "Epoch 7/20\n",
            "172/172 [==============================] - 12s 58ms/step - loss: 1.3208\n",
            "Epoch 8/20\n",
            "172/172 [==============================] - 12s 58ms/step - loss: 1.2759\n",
            "Epoch 9/20\n",
            "172/172 [==============================] - 12s 60ms/step - loss: 1.2363\n",
            "Epoch 10/20\n",
            "172/172 [==============================] - 12s 58ms/step - loss: 1.1966\n",
            "Epoch 11/20\n",
            "172/172 [==============================] - 11s 57ms/step - loss: 1.1581\n",
            "Epoch 12/20\n",
            "172/172 [==============================] - 11s 56ms/step - loss: 1.1168\n",
            "Epoch 13/20\n",
            "172/172 [==============================] - 11s 55ms/step - loss: 1.0736\n",
            "Epoch 14/20\n",
            "172/172 [==============================] - 11s 57ms/step - loss: 1.0282\n",
            "Epoch 15/20\n",
            "172/172 [==============================] - 12s 59ms/step - loss: 0.9808\n",
            "Epoch 16/20\n",
            "172/172 [==============================] - 12s 59ms/step - loss: 0.9309\n",
            "Epoch 17/20\n",
            "172/172 [==============================] - 12s 57ms/step - loss: 0.8792\n",
            "Epoch 18/20\n",
            "172/172 [==============================] - 12s 56ms/step - loss: 0.8291\n",
            "Epoch 19/20\n",
            "172/172 [==============================] - 11s 55ms/step - loss: 0.7789\n",
            "Epoch 20/20\n",
            "172/172 [==============================] - 11s 57ms/step - loss: 0.7312\n"
          ]
        }
      ]
    },
    {
      "cell_type": "markdown",
      "source": [
        "# **Generate Teks**\n",
        "\n",
        "Setiap kali Anda memanggil model, Anda memasukkan beberapa teks dan state internal. Model mengembalikan prediksi untuk karakter berikutnya dan state barunya. Masukkan kembali prediksi dan state ke model untuk terus menghasilkan teks.\n",
        "\n",
        "Berikut ini membuat prediksi satu langkah:"
      ],
      "metadata": {
        "id": "gXkXFOa730lp"
      }
    },
    {
      "cell_type": "code",
      "source": [
        "class OneStep(tf.keras.Model):\n",
        "  def __init__(self, model, chars_from_ids, ids_from_chars, temperature=1.0):\n",
        "    super().__init__()\n",
        "    self.temperature = temperature\n",
        "    self.model = model\n",
        "    self.chars_from_ids = chars_from_ids\n",
        "    self.ids_from_chars = ids_from_chars\n",
        "\n",
        "    # Create a mask to prevent \"[UNK]\" from being generated.\n",
        "    skip_ids = self.ids_from_chars(['[UNK]'])[:, None]\n",
        "    sparse_mask = tf.SparseTensor(\n",
        "        # Put a -inf at each bad index.\n",
        "        values=[-float('inf')]*len(skip_ids),\n",
        "        indices=skip_ids,\n",
        "        # Match the shape to the vocabulary\n",
        "        dense_shape=[len(ids_from_chars.get_vocabulary())])\n",
        "    self.prediction_mask = tf.sparse.to_dense(sparse_mask)\n",
        "\n",
        "  @tf.function\n",
        "  def generate_one_step(self, inputs, states=None):\n",
        "    # Convert strings to token IDs.\n",
        "    input_chars = tf.strings.unicode_split(inputs, 'UTF-8')\n",
        "    input_ids = self.ids_from_chars(input_chars).to_tensor()\n",
        "\n",
        "    # Run the model.\n",
        "    # predicted_logits.shape is [batch, char, next_char_logits]\n",
        "    predicted_logits, states = self.model(inputs=input_ids, states=states,\n",
        "                                          return_state=True)\n",
        "    # Only use the last prediction.\n",
        "    predicted_logits = predicted_logits[:, -1, :]\n",
        "    predicted_logits = predicted_logits/self.temperature\n",
        "    # Apply the prediction mask: prevent \"[UNK]\" from being generated.\n",
        "    predicted_logits = predicted_logits + self.prediction_mask\n",
        "\n",
        "    # Sample the output logits to generate token IDs.\n",
        "    predicted_ids = tf.random.categorical(predicted_logits, num_samples=1)\n",
        "    predicted_ids = tf.squeeze(predicted_ids, axis=-1)\n",
        "\n",
        "    # Convert from token ids to characters\n",
        "    predicted_chars = self.chars_from_ids(predicted_ids)\n",
        "\n",
        "    # Return the characters and model state.\n",
        "    return predicted_chars, states"
      ],
      "metadata": {
        "id": "8Rmd4TOY35SZ"
      },
      "execution_count": 64,
      "outputs": []
    },
    {
      "cell_type": "code",
      "source": [
        "one_step_model = OneStep(model, chars_from_ids, ids_from_chars)"
      ],
      "metadata": {
        "id": "w04RkF3y38eG"
      },
      "execution_count": 65,
      "outputs": []
    },
    {
      "cell_type": "markdown",
      "source": [
        "Jalankan secara berulang untuk menghasilkan beberapa teks. Melihat teks yang dihasilkan, Anda akan melihat model mengetahui kapan harus menggunakan huruf besar, membuat paragraf, dan meniru kosakata menulis seperti Shakespeare. Karena sedikitnya jumlah epoch pelatihan, model belum belajar membentuk kalimat runtut."
      ],
      "metadata": {
        "id": "nMZZq_KL3_bb"
      }
    },
    {
      "cell_type": "code",
      "source": [
        "start = time.time()\n",
        "states = None\n",
        "next_char = tf.constant(['ROMEO:'])\n",
        "result = [next_char]\n",
        "\n",
        "for n in range(1000):\n",
        "  next_char, states = one_step_model.generate_one_step(next_char, states=states)\n",
        "  result.append(next_char)\n",
        "\n",
        "result = tf.strings.join(result)\n",
        "end = time.time()\n",
        "print(result[0].numpy().decode('utf-8'), '\\n\\n' + '_'*80)\n",
        "print('\\nRun time:', end - start)"
      ],
      "metadata": {
        "id": "WCrNbjSP4CMN",
        "colab": {
          "base_uri": "https://localhost:8080/"
        },
        "outputId": "b1849a7a-f6d2-4845-c050-446f550000d2"
      },
      "execution_count": 66,
      "outputs": [
        {
          "output_type": "stream",
          "name": "stdout",
          "text": [
            "ROMEO:\n",
            "Thou mightst show me friends, are no less, if thou dost,\n",
            "And Warwick, why could I understand no fear\n",
            "Shalt stir upon my dangerous past beholding groud:\n",
            "But have the duke imperiments to methine.\n",
            "Swear not like a cast. Fie, fie, fie, fie!\n",
            "\n",
            "BRUTUS:\n",
            "Then, good friends!\n",
            "\n",
            "First Murderer:\n",
            "Why, what even have I, she oaths' more mind.\n",
            "\n",
            "HASTING SI:\n",
            "Marry, and will, if not, I would he had follow'd,\n",
            "Should ask his friends his wined, and here\n",
            "Have fit you, there is my report:\n",
            "Runs like to taste my heart.\n",
            "\n",
            "Durs:\n",
            "Now the army made with a linen, signior Lonton\n",
            "The floce of Rome, chosen men knew in's the war.\n",
            "\n",
            "DUKE OF YORK:\n",
            "I am content you; I would thou been well-in tane\n",
            "To have a feeling bold: patience away forgif\n",
            "Which he that sets we have spredded, trible-shoon in thee,\n",
            "But doth push her holy show,\n",
            "which did I note bigging to your faith.\n",
            "\n",
            "FRIAR LAURENCE:\n",
            "Hold; you, my Molba's office; rebit me see's end.\n",
            "\n",
            "DUKE VINCENTIO:\n",
            "Come on, banquet you:\n",
            "Let's meet the accent of judgment,\n",
            "Which you do speak no \n",
            "\n",
            "________________________________________________________________________________\n",
            "\n",
            "Run time: 4.887988567352295\n"
          ]
        }
      ]
    },
    {
      "cell_type": "markdown",
      "source": [
        "Hal termudah yang dapat Anda lakukan untuk meningkatkan hasil adalah dengan melatihnya lebih lama (coba EPOCHS = 30). Anda juga dapat bereksperimen dengan string awal yang berbeda, mencoba menambahkan lapisan RNN lain untuk meningkatkan akurasi model, atau menyesuaikan parameter suhu untuk menghasilkan prediksi yang kurang lebih acak.\n",
        "\n",
        "Jika Anda ingin model menghasilkan teks lebih cepat, hal termudah yang dapat Anda lakukan adalah membuat teks secara batch. Pada contoh di bawah, model menghasilkan 5 keluaran dalam waktu yang hampir sama dengan waktu yang dibutuhkan untuk menghasilkan 1 keluaran di atas."
      ],
      "metadata": {
        "id": "WRw5WJZO4EsI"
      }
    },
    {
      "cell_type": "code",
      "source": [
        "start = time.time()\n",
        "states = None\n",
        "next_char = tf.constant(['ROMEO:', 'ROMEO:', 'ROMEO:', 'ROMEO:', 'ROMEO:'])\n",
        "result = [next_char]\n",
        "\n",
        "for n in range(1000):\n",
        "  next_char, states = one_step_model.generate_one_step(next_char, states=states)\n",
        "  result.append(next_char)\n",
        "\n",
        "result = tf.strings.join(result)\n",
        "end = time.time()\n",
        "print(result, '\\n\\n' + '_'*80)\n",
        "print('\\nRun time:', end - start)"
      ],
      "metadata": {
        "id": "XJn9sjnw4Fqi",
        "colab": {
          "base_uri": "https://localhost:8080/"
        },
        "outputId": "ada77a93-dc23-4b8c-e1ac-b91554f8efe9"
      },
      "execution_count": 67,
      "outputs": [
        {
          "output_type": "stream",
          "name": "stdout",
          "text": [
            "tf.Tensor(\n",
            "[b\"ROMEO:\\nWhy, madam, mayor, where keep your care?\\n\\nCORIOLANUS:\\nHe hath got into\\nmy trun choils your country's forward and asknish\\nFor meaning on my aid.\\n\\nLEONTES:\\nMy good sons,\\nThe gods gift ado to your grace's in good words.\\n\\nFirst Servingman:\\nWhere is the issue,\\nYou do not miss me up gone to Rome?\\nSoft added tigories; steep'st Thou, where have I\\nWold me to Wait in it from thanks that set most former\\nThe captory, vice, little lord, one\\nInfold thievish words.\\n\\nDUKE OF YORK:\\nBut does your grace, methoughts I will prove a greatness while to-bow\\nNo rest but thine away, shall think to\\ndeath, and I the visitor silent; for let me speak no roge\\nHere praise successes with her. Where your knee?\\n\\nProvost:\\nI rough with marriage more my knees, and live.\\nWell allo doth consure my daughter should,\\nLeave us the honour flay'd of the ease,\\nWith lies half a little while;\\nAnd I for him, no less honour on's;\\nAnd wash him every man, and or next news.\\nOnsembance, what word it?\\n\\nMENENIUS:\\nRo, I'll not at your person\"\n",
            " b\"ROMEO:\\nHe has one wore: grave is the sun 'emong:\\nIf rent we two, a word with you!\\n\\nJULIET:\\nO, now, 'tis good day's work:\\nPray you, go on; which lay be bold quennol here:\\nThou, citizens the shadow or a wandering drow\\nShall say again, but rather lie untaily'd\\nHis gown to his accustom to the queen,\\nSo cold and coloured favour,--and the herd liver as I did sleep.\\n\\nThird Watchman:\\nAy, ay; an one, thou shalt nere lose. Come, having\\n'pongunate, that he hath somewhatedent,\\nWhich for some meaning institimeding\\nA-gentle-book-darlike for! and now, upon my came,\\nThat know me not smells; which I but down into\\nsee him at London, 'molight by me, no more! I speak'st\\nHe will answer I.\\n\\nNurse:\\nGentlemen, on me! what's the new sure 'tis merry,\\nA better guilt or blood and honour.\\n\\nMISTRESS OVERDONE:\\nNay, that's not so: the letters of mine adversary.\\nLies you them, as I see that I am cured in safety,\\nAfter we may, our sorrow wills me dead?\\n\\nCAPULET:\\nHeavens makes her goodly lies:\\nShe shall requires my body to ag\"\n",
            " b\"ROMEO:\\nPast mone that quarrels ir my hence depriest;\\nFrom all my heads and thence to her at your holding,\\ndayser'd blunius and unpitiff war's grievous:\\nBut nothing show'd to flawly and women.\\n\\nClown:\\nSee how you might.\\n\\nLEONTES:\\nHow! draw your whom in parliament?\\n\\nBAPTISTA:\\nOne disguiet be absolute Marcius is scorn'd,\\nNo bearing with me: gevout it, the Tower,\\nAnd mean to shield a terman, whereon lives us hear a\\nconstable's waxina. Shier, being seen,\\n'Tis great eir assterity By Hertol.\\n\\nBONAH:\\nI take him for that man.\\nWhat, I beseech you, lords, boldly of sour and young:\\nHow came you mercy, Jusio! power\\nPoor beloviding on off these acciden,\\nSuch sixteen your esteemer now your daughter,\\nIness me, do not smot above home,\\nWhere shall we bear for Rome, shall I swear\\nI'll tell him where he hath forsook his bond:\\nIt is not more to come above the eater.\\nSetting your just merch, God, like mine, my life,\\nPerfughing a brace o' the world:\\nSo shall we hence: but look thee of it. For 'twas suitor,\\nA boin'\"\n",
            " b\"ROMEO:\\nPut up his wife; for as never looks us.\\n\\nWARWICK:\\nThis fails all day to me: O furm my son, he has\\ndead in't, let me have been abide confound.\\n\\nDORCAS:\\nIs she shall do thee languish?\\n\\nMERCUTIO:\\nCome, come, you would choke this charge the swallows.\\n\\nHENRY BOLINGBROKE:\\nCall forth these serving more; overthrows,\\nSo signior Katearity, discase, methinks,\\nBrought his majesty a saint,\\nFor now his grace will not promised you, truly.\\n\\nMessenger:\\nThe greater crown is keen, old heath, drey, or else they\\nSo sumple I have ended there.\\n\\nCAPULET:\\nHustage, I boin, and witnesses work.\\n\\nKATHARINA:\\nGod-den to your number, Rivers, which the nobilit\\nHe kiss'd my undersunation Hortensio.\\n\\nBRAKENBURY:\\nWhat says he? on a day to-morrow,\\nAnd speak of pain of a denia, or\\nat home! think 'twere perfect lost!\\n\\nSAMPSON:\\nWe not so with grief and observen against it.\\n\\nFirst Watchman:\\nWhat art thou takest,\\nYour loving coase is eloquence,\\nNever break noticed of fair closses of the house of Lecten\\nTabul sings indeed, Pri\"\n",
            " b\"ROMEO:\\nYou are more.\\n\\nHERMIONE:\\nCome, Chifhes, and given with me;\\nFor on my cond to think now every lord.\\n\\nKING RDICHARD II:\\nWe are a leave of your age.\\n\\nPAULINA:\\nSo, let's forget.\\nWe'll prove a banish'd queen;\\nAnd, with my sister seem to wooung peers,\\nWith heigh did self anothe, if you had but\\n'emore: she's a leave husbandr'd honour, sir.\\n\\nLord:\\nO Clifford, boisled go with home;\\nAnd I, a noble life of many mile honour!\\nI am going on one hour and yours;\\nBut for these poison always will command.\\n\\nCLARENCE:\\nWhat is't o'erphar'd the purpome reason\\nBut set the honour hear me like.\\n\\nKING EDWARD IV:\\nNweer how my praise and my must be so wine.'\\n\\nGLOUCESTER:\\n\\nKING EDWARD IV:\\nGo, trom he shall not give you rogue again,\\nNot praying both their familiarity and\\nwith me to claim your cause.\\n\\nClown:\\nShe's not taken: here comes your gently looks;\\nFor being so bright shore hath gotd my late is cried:\\n'Thoubs here which full loagh! and now too our foes!\\n\\nWARWICK:\\nMine, for ever warrior Hortensio himself\\nLike \"], shape=(5,), dtype=string) \n",
            "\n",
            "________________________________________________________________________________\n",
            "\n",
            "Run time: 4.0846662521362305\n"
          ]
        }
      ]
    },
    {
      "cell_type": "markdown",
      "source": [
        "# **Ekspor Model Generator**\n",
        "\n",
        "Model satu langkah ini dapat dengan mudah disimpan dan digunakan kembali, memungkinkan Anda menggunakannya di mana pun tf.saved_model diterima."
      ],
      "metadata": {
        "id": "S14id8Sv4I_X"
      }
    },
    {
      "cell_type": "code",
      "source": [
        "tf.saved_model.save(one_step_model, 'one_step')\n",
        "one_step_reloaded = tf.saved_model.load('one_step')"
      ],
      "metadata": {
        "id": "PZDruTAi4LLI",
        "colab": {
          "base_uri": "https://localhost:8080/"
        },
        "outputId": "a5ab05ca-59b2-4ecd-cb1a-07c34de41ee3"
      },
      "execution_count": 68,
      "outputs": [
        {
          "output_type": "stream",
          "name": "stderr",
          "text": [
            "WARNING:tensorflow:Skipping full serialization of Keras layer <__main__.OneStep object at 0x7f75f11a4ee0>, because it is not built.\n",
            "WARNING:tensorflow:Model's `__init__()` arguments contain non-serializable objects. Please implement a `get_config()` method in the subclassed Model for proper saving and loading. Defaulting to empty config.\n",
            "WARNING:tensorflow:Model's `__init__()` arguments contain non-serializable objects. Please implement a `get_config()` method in the subclassed Model for proper saving and loading. Defaulting to empty config.\n"
          ]
        }
      ]
    },
    {
      "cell_type": "code",
      "source": [
        "states = None\n",
        "next_char = tf.constant(['ROMEO:'])\n",
        "result = [next_char]\n",
        "\n",
        "for n in range(100):\n",
        "  next_char, states = one_step_reloaded.generate_one_step(next_char, states=states)\n",
        "  result.append(next_char)\n",
        "\n",
        "print(tf.strings.join(result)[0].numpy().decode(\"utf-8\"))"
      ],
      "metadata": {
        "id": "BPii7jLs4M1b",
        "colab": {
          "base_uri": "https://localhost:8080/"
        },
        "outputId": "5e8eaceb-2632-4909-a9c1-78041a619520"
      },
      "execution_count": 69,
      "outputs": [
        {
          "output_type": "stream",
          "name": "stdout",
          "text": [
            "ROMEO:\n",
            "Shame else. I am shrink but uppear'd;\n",
            "And, with such peace with me, for one\n",
            "Of an intimely tarry; t\n"
          ]
        }
      ]
    },
    {
      "cell_type": "markdown",
      "source": [
        "# **Tugas**\n",
        "\n",
        "Prosedur pelatihan pada praktikum 2 merupakan prosedur sederhana, yang tidak memberi Anda banyak kendali. Model ini menggunakan \"teacher-forcing\" yang mencegah prediksi buruk diumpankan kembali ke model, sehingga model tidak pernah belajar untuk pulih dari kesalahan. Jadi, setelah Anda melihat cara menjalankan model secara manual, selanjutnya Anda akan mengimplementasikan custom loop pelatihan. Hal ini memberikan titik awal jika, misalnya, Anda ingin menerapkan pembelajaran kurikulum untuk membantu menstabilkan keluaran open-loop model. Bagian terpenting dari loop pelatihan khusus adalah fungsi langkah pelatihan.\n",
        "\n",
        "Gunakan tf.GradientTape untuk men track nilai gradient. Anda dapat mempelajari lebih lanjut tentang pendekatan ini dengan membaca eager execution guide.\n",
        "\n",
        "Prosedurnya adalah \"\n",
        "\n",
        "1. Jalankan Model dan hitung loss dengan tf.GradientTape.\n",
        "\n",
        "2. Hitung update dan terapkan pada model dengan optimizer"
      ],
      "metadata": {
        "id": "B0Eqx16V4TYK"
      }
    },
    {
      "cell_type": "code",
      "source": [
        "class CustomTraining(MyModel):\n",
        "  @tf.function\n",
        "  def train_step(self, inputs):\n",
        "      inputs, labels = inputs\n",
        "      with tf.GradientTape() as tape:\n",
        "          predictions = self(inputs, training=True)\n",
        "          loss = self.loss(labels, predictions)\n",
        "      grads = tape.gradient(loss, model.trainable_variables)\n",
        "      self.optimizer.apply_gradients(zip(grads, model.trainable_variables))\n",
        "\n",
        "      return {'loss': loss}"
      ],
      "metadata": {
        "id": "-dtHJL-R4eXO"
      },
      "execution_count": 70,
      "outputs": []
    },
    {
      "cell_type": "markdown",
      "source": [
        "Kode diatas menerapkan train_step method sesuai dengan  Keras' train_step conventions. Ini opsional, tetapi memungkinkan Anda mengubah perilaku langkah pelatihan dan tetap menggunakan keras Model.compile and Model.fit methods."
      ],
      "metadata": {
        "id": "9Gxju_wX4pEr"
      }
    },
    {
      "cell_type": "code",
      "source": [
        "model = CustomTraining(\n",
        "    vocab_size=len(ids_from_chars.get_vocabulary()),\n",
        "    embedding_dim=embedding_dim,\n",
        "    rnn_units=rnn_units)"
      ],
      "metadata": {
        "id": "PH3U0KPm4p9S"
      },
      "execution_count": 71,
      "outputs": []
    },
    {
      "cell_type": "code",
      "source": [
        "model.compile(optimizer = tf.keras.optimizers.Adam(),\n",
        "              loss=tf.keras.losses.SparseCategoricalCrossentropy(from_logits=True))"
      ],
      "metadata": {
        "id": "ZNjFbZ8O4wyp"
      },
      "execution_count": 72,
      "outputs": []
    },
    {
      "cell_type": "code",
      "source": [
        "model.fit(dataset, epochs=1)"
      ],
      "metadata": {
        "id": "VSNClJGP4yvJ",
        "colab": {
          "base_uri": "https://localhost:8080/"
        },
        "outputId": "02d0d9ea-64b1-4353-ad68-9b07d7c52523"
      },
      "execution_count": 73,
      "outputs": [
        {
          "output_type": "stream",
          "name": "stdout",
          "text": [
            "172/172 [==============================] - 18s 60ms/step - loss: 2.7325\n"
          ]
        },
        {
          "output_type": "execute_result",
          "data": {
            "text/plain": [
              "<keras.src.callbacks.History at 0x7f75f1e3c7c0>"
            ]
          },
          "metadata": {},
          "execution_count": 73
        }
      ]
    },
    {
      "cell_type": "markdown",
      "source": [
        "Atau jika ingin lebih mengetahui dalamnya, kita bisa membuat custom training loop sendiri:"
      ],
      "metadata": {
        "id": "5GFQhks-42EL"
      }
    },
    {
      "cell_type": "code",
      "source": [
        "EPOCHS = 10\n",
        "\n",
        "mean = tf.metrics.Mean()\n",
        "\n",
        "for epoch in range(EPOCHS):\n",
        "    start = time.time()\n",
        "\n",
        "    mean.reset_states()\n",
        "    for (batch_n, (inp, target)) in enumerate(dataset):\n",
        "        logs = model.train_step([inp, target])\n",
        "        mean.update_state(logs['loss'])\n",
        "\n",
        "        if batch_n % 50 == 0:\n",
        "            template = f\"Epoch {epoch+1} Batch {batch_n} Loss {logs['loss']:.4f}\"\n",
        "            print(template)\n",
        "\n",
        "    # saving (checkpoint) the model every 5 epochs\n",
        "    if (epoch + 1) % 5 == 0:\n",
        "        model.save_weights(checkpoint_prefix.format(epoch=epoch))\n",
        "\n",
        "    print()\n",
        "    print(f'Epoch {epoch+1} Loss: {mean.result().numpy():.4f}')\n",
        "    print(f'Time taken for 1 epoch {time.time() - start:.2f} sec')\n",
        "    print(\"_\"*80)\n",
        "\n",
        "model.save_weights(checkpoint_prefix.format(epoch=epoch))"
      ],
      "metadata": {
        "id": "7ac1Omgj42lt",
        "colab": {
          "base_uri": "https://localhost:8080/"
        },
        "outputId": "54c3fb39-b564-44e4-b8f8-350c5e139f83"
      },
      "execution_count": 74,
      "outputs": [
        {
          "output_type": "stream",
          "name": "stdout",
          "text": [
            "Epoch 1 Batch 0 Loss 2.1830\n",
            "Epoch 1 Batch 50 Loss 2.0960\n",
            "Epoch 1 Batch 100 Loss 1.9213\n",
            "Epoch 1 Batch 150 Loss 1.8722\n",
            "\n",
            "Epoch 1 Loss: 2.0021\n",
            "Time taken for 1 epoch 12.83 sec\n",
            "________________________________________________________________________________\n",
            "Epoch 2 Batch 0 Loss 1.8908\n",
            "Epoch 2 Batch 50 Loss 1.7684\n",
            "Epoch 2 Batch 100 Loss 1.6668\n",
            "Epoch 2 Batch 150 Loss 1.6666\n",
            "\n",
            "Epoch 2 Loss: 1.7313\n",
            "Time taken for 1 epoch 11.49 sec\n",
            "________________________________________________________________________________\n",
            "Epoch 3 Batch 0 Loss 1.5959\n",
            "Epoch 3 Batch 50 Loss 1.6055\n",
            "Epoch 3 Batch 100 Loss 1.5842\n",
            "Epoch 3 Batch 150 Loss 1.5452\n",
            "\n",
            "Epoch 3 Loss: 1.5688\n",
            "Time taken for 1 epoch 11.46 sec\n",
            "________________________________________________________________________________\n",
            "Epoch 4 Batch 0 Loss 1.4679\n",
            "Epoch 4 Batch 50 Loss 1.5330\n",
            "Epoch 4 Batch 100 Loss 1.4782\n",
            "Epoch 4 Batch 150 Loss 1.4643\n",
            "\n",
            "Epoch 4 Loss: 1.4670\n",
            "Time taken for 1 epoch 11.17 sec\n",
            "________________________________________________________________________________\n",
            "Epoch 5 Batch 0 Loss 1.3841\n",
            "Epoch 5 Batch 50 Loss 1.4344\n",
            "Epoch 5 Batch 100 Loss 1.4059\n",
            "Epoch 5 Batch 150 Loss 1.4186\n",
            "\n",
            "Epoch 5 Loss: 1.3969\n",
            "Time taken for 1 epoch 10.95 sec\n",
            "________________________________________________________________________________\n",
            "Epoch 6 Batch 0 Loss 1.3562\n",
            "Epoch 6 Batch 50 Loss 1.3981\n",
            "Epoch 6 Batch 100 Loss 1.3665\n",
            "Epoch 6 Batch 150 Loss 1.3680\n",
            "\n",
            "Epoch 6 Loss: 1.3420\n",
            "Time taken for 1 epoch 10.85 sec\n",
            "________________________________________________________________________________\n",
            "Epoch 7 Batch 0 Loss 1.2825\n",
            "Epoch 7 Batch 50 Loss 1.3288\n",
            "Epoch 7 Batch 100 Loss 1.2809\n",
            "Epoch 7 Batch 150 Loss 1.3078\n",
            "\n",
            "Epoch 7 Loss: 1.2964\n",
            "Time taken for 1 epoch 20.47 sec\n",
            "________________________________________________________________________________\n",
            "Epoch 8 Batch 0 Loss 1.2598\n",
            "Epoch 8 Batch 50 Loss 1.2582\n",
            "Epoch 8 Batch 100 Loss 1.2522\n",
            "Epoch 8 Batch 150 Loss 1.2659\n",
            "\n",
            "Epoch 8 Loss: 1.2562\n",
            "Time taken for 1 epoch 13.59 sec\n",
            "________________________________________________________________________________\n",
            "Epoch 9 Batch 0 Loss 1.1838\n",
            "Epoch 9 Batch 50 Loss 1.2232\n",
            "Epoch 9 Batch 100 Loss 1.2315\n",
            "Epoch 9 Batch 150 Loss 1.2138\n",
            "\n",
            "Epoch 9 Loss: 1.2164\n",
            "Time taken for 1 epoch 12.27 sec\n",
            "________________________________________________________________________________\n",
            "Epoch 10 Batch 0 Loss 1.2008\n",
            "Epoch 10 Batch 50 Loss 1.1773\n",
            "Epoch 10 Batch 100 Loss 1.1803\n",
            "Epoch 10 Batch 150 Loss 1.1894\n",
            "\n",
            "Epoch 10 Loss: 1.1778\n",
            "Time taken for 1 epoch 20.58 sec\n",
            "________________________________________________________________________________\n"
          ]
        }
      ]
    },
    {
      "cell_type": "markdown",
      "source": [
        "Jalankan kode diatas dan sebutkan perbedaanya dengan praktikum 2?"
      ],
      "metadata": {
        "id": "Zn62kF2j5I0m"
      }
    },
    {
      "cell_type": "markdown",
      "source": [
        "**Potongan Kode Praktikum 2 (Penggunaan Fungsionalitas Keras):**"
      ],
      "metadata": {
        "id": "h4X0wVcPrkIu"
      }
    },
    {
      "cell_type": "markdown",
      "source": [
        "1.   **Penggunaan Fungsionalitas Terintegrasi**: Dalam potongan kode ini, lebih banyak fungsionalitas bawaan dari TensorFlow/Keras digunakan. Ini termasuk penggunaan lapisan-lapisan Keras seperti Embedding, GRU, dan Dense. Dengan demikian, potongan kode ini menyederhanakan proses definisi model dengan mengandalkan Keras untuk menangani sebagian besar operasi, sehingga membuatnya lebih mudah digunakan.\n",
        "2.   **Training dengan Fungsi fit()**: Model dilatih menggunakan metode fit(), yang merupakan salah satu dari fungsionalitas terintegrasi Keras. Metode ini menangani hampir semua aspek pelatihan, termasuk pelacakan metrik, optimasi, dan validasi. Hal ini membuat potongan kode ini lebih efisien dalam pengelolaan pelatihan model.\n",
        "3.   **Penggunaan Callbacks**: Dalam proses pelatihan, potongan kode ini juga menggunakan callbacks, seperti ModelCheckpoint, yang memungkinkan penyimpanan bobot model setelah setiap epoch. Ini adalah salah satu contoh bagaimana fungsionalitas Keras terintegrasi digunakan untuk mengelola aspek-aspek pelatihan tambahan."
      ],
      "metadata": {
        "id": "6S5jQWAUsKSI"
      }
    },
    {
      "cell_type": "markdown",
      "source": [
        "**Potongan Kode Tugas (Model Custom):**\n",
        "\n",
        "1.   **Model Custom**: Potongan kode di Tugas mendiskusikan penggunaan model yang dibuat secara manual. Di sini, Anda secara eksplisit membuat kelas CustomTraining yang mewarisi MyModel. Anda kemudian mendefinisikan fungsi train_step secara eksplisit untuk melakukan langkah pelatihan (training step) dengan menggunakan tf.GradientTape dan mengimplementasikan bagian pelatihan secara manual.\n",
        "\n",
        "2.  **Pembuatan Model dan Pelatihan Langsung**: Dalam potongan kode ini, Anda memiliki lebih banyak kendali atas proses pembuatan model dan pelatihan. Anda dapat mengontrol setiap langkah secara spesifik, termasuk perhitungan gradien dan pembaruan bobot.\n",
        "\n",
        "3.  **Loop Pelatihan Manual**: Potongan kode ini memiliki loop pelatihan eksplisit yang mengatur pelatihan dalam epoch dan batch secara terperinci. Ini memungkinkan pemahaman yang lebih mendalam tentang bagaimana setiap langkah dalam pelatihan bekerja."
      ],
      "metadata": {
        "id": "oIu2AeShxrr4"
      }
    },
    {
      "cell_type": "markdown",
      "source": [
        "**Perbandingan:**\n",
        "\n",
        "-   **Level Abstraksi**: Potongan kode di Praktikum 2 memberikan tingkat abstraksi yang lebih tinggi, sehingga mengurangi kompleksitas dan menambah kemudahan penggunaan. Potongan kode di Tugas memungkinkan pengguna untuk berinteraksi lebih langsung dengan setiap langkah pelatihan.\n",
        "\n",
        "-   **Kustomisasi dan Kemudahan Penggunaan**: Potongan kode di Tugas memberikan tingkat kustomisasi yang lebih tinggi, memungkinkan pengguna untuk mengontrol setiap aspek pelatihan secara spesifik. Di sisi lain, potongan kode di Praktikum 2 lebih fokus pada kenyamanan pengguna dengan menyediakan lebih banyak fitur terintegrasi.\n",
        "\n",
        "-   **Pemahaman yang Lebih Mendalam**: Potongan kode di Tugas cenderung memberikan pemahaman yang lebih mendalam tentang cara setiap langkah dalam pelatihan bekerja, sedangkan potongan kode di Praktikum 2 lebih terfokus pada pemakaian yang lebih mudah dan efisien."
      ],
      "metadata": {
        "id": "v-0yNrDlyCvd"
      }
    }
  ]
}